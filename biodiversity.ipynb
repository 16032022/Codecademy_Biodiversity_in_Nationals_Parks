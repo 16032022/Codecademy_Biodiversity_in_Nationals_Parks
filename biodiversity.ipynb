{
 "cells": [
  {
   "cell_type": "markdown",
   "metadata": {},
   "source": [
    "# Data scientist: analytics specialist path Codecademy"
   ]
  },
  {
   "cell_type": "markdown",
   "metadata": {},
   "source": [
    "# 14. Data Science Foundations Project: Biodiversity in National Parks"
   ]
  },
  {
   "cell_type": "markdown",
   "metadata": {},
   "source": [
    "# Objectives"
   ]
  },
  {
   "cell_type": "markdown",
   "metadata": {},
   "source": [
    "Interpret data from the American national parks service (system) about endangered (plant and animal) species found in (four) different National park sites."
   ]
  },
  {
   "cell_type": "markdown",
   "metadata": {},
   "source": [
    "# Introduction"
   ]
  },
  {
   "cell_type": "markdown",
   "metadata": {},
   "source": [
    "A fundamental responsibility of the American National Park Service is to understand and protect the diversity of life within the park.National Park species lists provide information on the presence and status of species in the national parks.Each park species record includes a species, park name, taxonomic information (species categorization), scientific name, one common name, record status, occurrence (verification of species presence in park), nativeness, abundance (presence and visibility of species in park), and conservation status (species classification according to US Fish & Wildlife Service) (REF1)."
   ]
  },
  {
   "cell_type": "markdown",
   "metadata": {},
   "source": [
    "# Methods"
   ]
  },
  {
   "cell_type": "markdown",
   "metadata": {},
   "source": [
    "Data about different species, their conservation status and observations related to the number of times each species was observed at four national park sites for the past 7 days have been available through two CSV files (observations.csv, and species.csv) from the Codecademy platform.    \n",
    "The Exploratory Data Analysis (EDA) approach was used to perform first the initial data inspection, cleaning, and validation process, then to perform data analysis on the conservation statuses of these species and further to get an insight whether there could be any patterns to the types of species to become endangered. Data analysis was performed using Python 3 software. The Python script is reported in Append. "
   ]
  },
  {
   "cell_type": "markdown",
   "metadata": {},
   "source": [
    "# Results "
   ]
  },
  {
   "cell_type": "markdown",
   "metadata": {},
   "source": [
    "A first inspection of the two csv files did show the presence of seven categories related to different class of animals (Amphibian, Bird, Fish, Mammal, Nonvascular Plant, Reptile, Vascular Plant) and four types  of their conservation status (\n",
    " Endangered, Species in Recovery, Species of Concern and Threatened species) in four different national park sites (Great Smoky Mountains National Park, Yosemite National Park, Yellowstone National Park, and Bryce National Park) were species were found.\n",
    "A further diagnose of the data did underline the presence of  Not a Number (NaN) observations into the category species. Based on the assumption that this nan values could mean that for this category there was no need to manage these species,  a new category, No-intervantion, of the conservation status has been enclosed in the dataframe. \n",
    "With regard the distribution of conservation status for animals, this analysis has shown that Birds, Vascular Plant and Mammal, classified as Species of Concern, have the highest distribution compared with the other species and their related conservation status.\n",
    "The analysis whether certain types of species are more likely to be endangered, has been determined by calculating the percentage of danger status in each species. Because the animal which is endangered is also protected, a new variable, is_protected, have been enclosed for this type of species. Further, it has been shown up that two types of species, Mammals and Birds, are more likely to be Endangered (respectively 17.8 and 15.2). On the other side, Non vascular Plant and Vascular Plant seem not to be endangered (respectively 1.5 and 1.0).\n",
    "The results related to underline  differences between species and their conservation status significant have shown that category soecies and is_protected association is likely to be significant.\n",
    "Vascular plant and birds seem to be the species that were spotted the most at each park site. However,  neverless the number of observations for each park site are equal, the distribution of their category species is different."
   ]
  },
  {
   "cell_type": "markdown",
   "metadata": {},
   "source": [
    "# Conclusions"
   ]
  },
  {
   "cell_type": "markdown",
   "metadata": {},
   "source": [
    "To sum up this analysis has shown the importance of the knowledge of park biodiversity and that the species inventories varies from park to park, which may result in data gaps.\n",
    "One limitation of this analysis could be the precence of 31 duplicates that have not been drop put before to perform the analysis.\n",
    "Another  limitation could be the absence of information of the exact period related to the seven days in which the observations were performed. This does not allow to investigate possible seasonal different patterns."
   ]
  },
  {
   "cell_type": "markdown",
   "metadata": {},
   "source": [
    "# Append"
   ]
  },
  {
   "cell_type": "markdown",
   "metadata": {},
   "source": [
    "This script is divied into three main sections: upload (read) the two CSV files; Inspect, Clean, and Validate the two Datasets using the EDA approach and finally explore and explain the data."
   ]
  },
  {
   "cell_type": "markdown",
   "metadata": {},
   "source": [
    "DATA ACQUISITION "
   ]
  },
  {
   "cell_type": "markdown",
   "metadata": {},
   "source": [
    "Before to upload the two files, the Python libraries used in the further analysis have been imported. "
   ]
  },
  {
   "cell_type": "code",
   "execution_count": 1,
   "metadata": {},
   "outputs": [],
   "source": [
    "#Upload the Python libraries\n",
    "import csv\n",
    "import pandas as pd\n",
    "import numpy as np\n",
    "import seaborn as sns\n",
    "import matplotlib.pyplot as plt\n",
    "from matplotlib import pyplot as plt "
   ]
  },
  {
   "cell_type": "markdown",
   "metadata": {},
   "source": [
    "Load the two datasets (CSV files) from the Codecademy platform"
   ]
  },
  {
   "cell_type": "code",
   "execution_count": 2,
   "metadata": {},
   "outputs": [],
   "source": [
    "#observations.csv > This csv file holds recorded hightings of different species at several national parks for the past 7 days.\n",
    "with open('observations.csv') as data_file:\n",
    "    data_file_dict = csv.DictReader(data_file)\n",
    "\n",
    "#species_info.csv > This csv file does contains data about different species and their conservation status\n",
    "with open('species_info.csv') as data_file2:\n",
    "    data_file_dict2 = csv.DictReader(data_file2)      "
   ]
  },
  {
   "cell_type": "markdown",
   "metadata": {},
   "source": [
    "INSPECT, CLEAN AND VALIDATE THE TWO DATASETS"
   ]
  },
  {
   "cell_type": "markdown",
   "metadata": {},
   "source": [
    "Make dataframe and explore the enclosed variables, the size and shape for each of the two csv files"
   ]
  },
  {
   "cell_type": "code",
   "execution_count": 3,
   "metadata": {},
   "outputs": [
    {
     "data": {
      "text/plain": [
       "array(['scientific_name', 'park_name', 'observations'], dtype=object)"
      ]
     },
     "execution_count": 3,
     "metadata": {},
     "output_type": "execute_result"
    }
   ],
   "source": [
    "#observations.csv file\n",
    "dataset = pd.read_csv('observations.csv')\n",
    "dataset_obs = pd.DataFrame(dataset) #Make dataframe \n",
    "dataset_obs.columns.values   #View  of the columns (varialbes) of the dataset "
   ]
  },
  {
   "cell_type": "markdown",
   "metadata": {},
   "source": [
    "The output shows that the observations csv file does contain three variables:scientific_name (the scientific name of each species); park_name (the park where species were found); observations (the number of times each species was observed at the park)."
   ]
  },
  {
   "cell_type": "code",
   "execution_count": 4,
   "metadata": {},
   "outputs": [
    {
     "name": "stdout",
     "output_type": "stream",
     "text": [
      "69888\n",
      "(23296, 3)\n"
     ]
    }
   ],
   "source": [
    "# dataframe.size\n",
    "size = dataset_obs.size # Returns size of dataframe which is equivalent to total number of elements.\n",
    "print(size)\n",
    "# dataframe.shape\n",
    "shape =dataset_obs.shape  \n",
    "print(shape)"
   ]
  },
  {
   "cell_type": "markdown",
   "metadata": {},
   "source": [
    "As it can been seen, the size of the dataframe observations.csv (69888) is equivalent to its turple of shape (rows x columns = 23296x3 )"
   ]
  },
  {
   "cell_type": "code",
   "execution_count": 5,
   "metadata": {},
   "outputs": [
    {
     "data": {
      "text/plain": [
       "array(['category', 'scientific_name', 'common_names',\n",
       "       'conservation_status'], dtype=object)"
      ]
     },
     "execution_count": 5,
     "metadata": {},
     "output_type": "execute_result"
    }
   ],
   "source": [
    "# species.csv file\n",
    "datasett = pd.read_csv('species_info.csv')\n",
    "dataset_sp = pd.DataFrame(datasett)  #Make dataframe \n",
    "dataset_sp.columns.values  #View  of the columns (varialbes) of the dataset "
   ]
  },
  {
   "cell_type": "markdown",
   "metadata": {},
   "source": [
    "The output does show that the species.csv file does contain four variables: category (the species categorization); scientific_name (the scientific name of each species); common_name (the common name of each species); conservation_status (species classification according to US Fish & Wildlife Service)."
   ]
  },
  {
   "cell_type": "code",
   "execution_count": 6,
   "metadata": {},
   "outputs": [
    {
     "name": "stdout",
     "output_type": "stream",
     "text": [
      "23296\n",
      "(5824, 4)\n"
     ]
    }
   ],
   "source": [
    "# dataframe.size\n",
    "size2 = dataset_sp.size\n",
    "print(size2)\n",
    "# dataframe.shape\n",
    "shape2 =dataset_sp.shape\n",
    "print(shape2)"
   ]
  },
  {
   "cell_type": "markdown",
   "metadata": {},
   "source": [
    "As it can been seen, the size of the dataframe species.csv(23296) is equivalent to rows x columns (5824x4 ). Therefore, we can conclude that the total number of elements in the first dataframe is higher than in the second dataframe (69888 vs. 23296)"
   ]
  },
  {
   "cell_type": "markdown",
   "metadata": {},
   "source": [
    "Let's continue to inpect and compare separately the two datasets, getting an overview of first items of each datasets, a concise summary of the dataframes and some their basic basic statistical details. "
   ]
  },
  {
   "cell_type": "code",
   "execution_count": 7,
   "metadata": {},
   "outputs": [
    {
     "name": "stdout",
     "output_type": "stream",
     "text": [
      "            scientific_name                            park_name  observations\n",
      "0        Vicia benghalensis  Great Smoky Mountains National Park            68\n",
      "1            Neovison vison  Great Smoky Mountains National Park            77\n",
      "2         Prunus subcordata               Yosemite National Park           138\n",
      "3      Abutilon theophrasti                  Bryce National Park            84\n",
      "4  Githopsis specularioides  Great Smoky Mountains National Park            85\n",
      "<class 'pandas.core.frame.DataFrame'>\n",
      "RangeIndex: 23296 entries, 0 to 23295\n",
      "Data columns (total 3 columns):\n",
      " #   Column           Non-Null Count  Dtype \n",
      "---  ------           --------------  ----- \n",
      " 0   scientific_name  23296 non-null  object\n",
      " 1   park_name        23296 non-null  object\n",
      " 2   observations     23296 non-null  int64 \n",
      "dtypes: int64(1), object(2)\n",
      "memory usage: 546.1+ KB\n"
     ]
    },
    {
     "data": {
      "text/html": [
       "<div>\n",
       "<style scoped>\n",
       "    .dataframe tbody tr th:only-of-type {\n",
       "        vertical-align: middle;\n",
       "    }\n",
       "\n",
       "    .dataframe tbody tr th {\n",
       "        vertical-align: top;\n",
       "    }\n",
       "\n",
       "    .dataframe thead th {\n",
       "        text-align: right;\n",
       "    }\n",
       "</style>\n",
       "<table border=\"1\" class=\"dataframe\">\n",
       "  <thead>\n",
       "    <tr style=\"text-align: right;\">\n",
       "      <th></th>\n",
       "      <th>observations</th>\n",
       "    </tr>\n",
       "  </thead>\n",
       "  <tbody>\n",
       "    <tr>\n",
       "      <th>count</th>\n",
       "      <td>23296.000000</td>\n",
       "    </tr>\n",
       "    <tr>\n",
       "      <th>mean</th>\n",
       "      <td>142.287904</td>\n",
       "    </tr>\n",
       "    <tr>\n",
       "      <th>std</th>\n",
       "      <td>69.890532</td>\n",
       "    </tr>\n",
       "    <tr>\n",
       "      <th>min</th>\n",
       "      <td>9.000000</td>\n",
       "    </tr>\n",
       "    <tr>\n",
       "      <th>25%</th>\n",
       "      <td>86.000000</td>\n",
       "    </tr>\n",
       "    <tr>\n",
       "      <th>50%</th>\n",
       "      <td>124.000000</td>\n",
       "    </tr>\n",
       "    <tr>\n",
       "      <th>75%</th>\n",
       "      <td>195.000000</td>\n",
       "    </tr>\n",
       "    <tr>\n",
       "      <th>max</th>\n",
       "      <td>321.000000</td>\n",
       "    </tr>\n",
       "  </tbody>\n",
       "</table>\n",
       "</div>"
      ],
      "text/plain": [
       "       observations\n",
       "count  23296.000000\n",
       "mean     142.287904\n",
       "std       69.890532\n",
       "min        9.000000\n",
       "25%       86.000000\n",
       "50%      124.000000\n",
       "75%      195.000000\n",
       "max      321.000000"
      ]
     },
     "execution_count": 7,
     "metadata": {},
     "output_type": "execute_result"
    }
   ],
   "source": [
    "#observations.csv file\n",
    "print(dataset_obs.head()) # first items of the dataset\n",
    "dataset_obs.info()     #concise summary of the dataframe like the index dtype and columns, non-null values and memory usage \n",
    "dataset_obs.describe() # basic statistical details like percentile, mean, std etc. of a dataframe"
   ]
  },
  {
   "cell_type": "markdown",
   "metadata": {},
   "source": [
    "The output shows that in the observations.csv file two variables are categorical (scientific_name and park_name) and the other one is numerical (observations). Let's get an insight of each of these variables."
   ]
  },
  {
   "cell_type": "code",
   "execution_count": 8,
   "metadata": {},
   "outputs": [
    {
     "name": "stdout",
     "output_type": "stream",
     "text": [
      " The number of the different national park sites is 4\n"
     ]
    }
   ],
   "source": [
    "#Get the  number of unique values for each variable\n",
    "\n",
    "#scientific_name\n",
    "#Due to the large size of the dataframe (23296), the unique values of scientific_name will not at the moment inspect. \n",
    "\n",
    "#park_name\n",
    "print(\" The number of the different national park sites is {}\".format(dataset_obs[\"park_name\"].nunique())) "
   ]
  },
  {
   "cell_type": "code",
   "execution_count": 9,
   "metadata": {},
   "outputs": [
    {
     "name": "stdout",
     "output_type": "stream",
     "text": [
      "['Bryce National Park' 'Great Smoky Mountains National Park'\n",
      " 'Yellowstone National Park' 'Yosemite National Park']\n"
     ]
    }
   ],
   "source": [
    "#Find out the unique values of an array and return unique values based on a hash table.\n",
    "#Uniques are returned in order of appearance. This does NOT sort. Therefore, they have been sorted before the calculation of unique values.  \n",
    "#Park_name variable\n",
    "print(dataset_obs.sort_values(by=['park_name']).park_name.unique())"
   ]
  },
  {
   "cell_type": "markdown",
   "metadata": {},
   "source": [
    "The output does show the name of each of the four park sites: Bryce National Park(BNP), Great Smoky Mountains National Park (GRSM), Yellowstone National Park (YELL) and Yosemite National Park(YOSE). \n",
    "Hint: The abbreviation used to identify each park site is according to the NPS website (REF1). "
   ]
  },
  {
   "cell_type": "code",
   "execution_count": 10,
   "metadata": {},
   "outputs": [
    {
     "data": {
      "text/plain": [
       "park_name\n",
       "Bryce National Park                    5824\n",
       "Great Smoky Mountains National Park    5824\n",
       "Yellowstone National Park              5824\n",
       "Yosemite National Park                 5824\n",
       "dtype: int64"
      ]
     },
     "execution_count": 10,
     "metadata": {},
     "output_type": "execute_result"
    }
   ],
   "source": [
    "dataset_obs.sort_values(by=['park_name']).groupby(\"park_name\").size()"
   ]
  },
  {
   "cell_type": "markdown",
   "metadata": {},
   "source": [
    "The output shows that the four parks have the same size, thus the same number of elements."
   ]
  },
  {
   "cell_type": "code",
   "execution_count": 11,
   "metadata": {},
   "outputs": [
    {
     "data": {
      "text/html": [
       "<div>\n",
       "<style scoped>\n",
       "    .dataframe tbody tr th:only-of-type {\n",
       "        vertical-align: middle;\n",
       "    }\n",
       "\n",
       "    .dataframe tbody tr th {\n",
       "        vertical-align: top;\n",
       "    }\n",
       "\n",
       "    .dataframe thead tr th {\n",
       "        text-align: left;\n",
       "    }\n",
       "\n",
       "    .dataframe thead tr:last-of-type th {\n",
       "        text-align: right;\n",
       "    }\n",
       "</style>\n",
       "<table border=\"1\" class=\"dataframe\">\n",
       "  <thead>\n",
       "    <tr>\n",
       "      <th></th>\n",
       "      <th colspan=\"8\" halign=\"left\">observations</th>\n",
       "    </tr>\n",
       "    <tr>\n",
       "      <th></th>\n",
       "      <th>count</th>\n",
       "      <th>mean</th>\n",
       "      <th>std</th>\n",
       "      <th>min</th>\n",
       "      <th>25%</th>\n",
       "      <th>50%</th>\n",
       "      <th>75%</th>\n",
       "      <th>max</th>\n",
       "    </tr>\n",
       "    <tr>\n",
       "      <th>park_name</th>\n",
       "      <th></th>\n",
       "      <th></th>\n",
       "      <th></th>\n",
       "      <th></th>\n",
       "      <th></th>\n",
       "      <th></th>\n",
       "      <th></th>\n",
       "      <th></th>\n",
       "    </tr>\n",
       "  </thead>\n",
       "  <tbody>\n",
       "    <tr>\n",
       "      <th>Bryce National Park</th>\n",
       "      <td>5824.0</td>\n",
       "      <td>98.905391</td>\n",
       "      <td>20.762061</td>\n",
       "      <td>9.0</td>\n",
       "      <td>85.0</td>\n",
       "      <td>99.0</td>\n",
       "      <td>113.0</td>\n",
       "      <td>176.0</td>\n",
       "    </tr>\n",
       "    <tr>\n",
       "      <th>Great Smoky Mountains National Park</th>\n",
       "      <td>5824.0</td>\n",
       "      <td>74.144918</td>\n",
       "      <td>20.315457</td>\n",
       "      <td>10.0</td>\n",
       "      <td>60.0</td>\n",
       "      <td>74.0</td>\n",
       "      <td>88.0</td>\n",
       "      <td>147.0</td>\n",
       "    </tr>\n",
       "    <tr>\n",
       "      <th>Yellowstone National Park</th>\n",
       "      <td>5824.0</td>\n",
       "      <td>247.864354</td>\n",
       "      <td>23.168872</td>\n",
       "      <td>57.0</td>\n",
       "      <td>235.0</td>\n",
       "      <td>249.0</td>\n",
       "      <td>262.0</td>\n",
       "      <td>321.0</td>\n",
       "    </tr>\n",
       "    <tr>\n",
       "      <th>Yosemite National Park</th>\n",
       "      <td>5824.0</td>\n",
       "      <td>148.236951</td>\n",
       "      <td>21.221617</td>\n",
       "      <td>31.0</td>\n",
       "      <td>134.0</td>\n",
       "      <td>149.0</td>\n",
       "      <td>162.0</td>\n",
       "      <td>223.0</td>\n",
       "    </tr>\n",
       "  </tbody>\n",
       "</table>\n",
       "</div>"
      ],
      "text/plain": [
       "                                    observations                               \\\n",
       "                                           count        mean        std   min   \n",
       "park_name                                                                       \n",
       "Bryce National Park                       5824.0   98.905391  20.762061   9.0   \n",
       "Great Smoky Mountains National Park       5824.0   74.144918  20.315457  10.0   \n",
       "Yellowstone National Park                 5824.0  247.864354  23.168872  57.0   \n",
       "Yosemite National Park                    5824.0  148.236951  21.221617  31.0   \n",
       "\n",
       "                                                                 \n",
       "                                       25%    50%    75%    max  \n",
       "park_name                                                        \n",
       "Bryce National Park                   85.0   99.0  113.0  176.0  \n",
       "Great Smoky Mountains National Park   60.0   74.0   88.0  147.0  \n",
       "Yellowstone National Park            235.0  249.0  262.0  321.0  \n",
       "Yosemite National Park               134.0  149.0  162.0  223.0  "
      ]
     },
     "execution_count": 11,
     "metadata": {},
     "output_type": "execute_result"
    }
   ],
   "source": [
    "dataset_obs.sort_values(by=['park_name']).groupby(\"park_name\").describe()"
   ]
  },
  {
   "cell_type": "markdown",
   "metadata": {},
   "source": [
    "This last output shows the overview of the summary statistics of each park site. As it can been seen, neverless the four parks have the same size, their mean, std, max and min values of observations is different. This finding is also displayed in the follwoing plot."
   ]
  },
  {
   "cell_type": "code",
   "execution_count": 12,
   "metadata": {},
   "outputs": [
    {
     "data": {
      "image/png": "[encoded data removed]",
      "text/plain": [
       "<Figure size 720x576 with 1 Axes>"
      ]
     },
     "metadata": {
      "needs_background": "light"
     },
     "output_type": "display_data"
    },
    {
     "data": {
      "text/plain": [
       "<Figure size 432x288 with 0 Axes>"
      ]
     },
     "metadata": {},
     "output_type": "display_data"
    }
   ],
   "source": [
    "#The facet grid of scatter graph mapping observations as a function of park sites\n",
    "plt.figure(figsize=(10,8))\n",
    "sns.boxplot(x=\"park_name\", y=\"observations\", data=dataset_obs.sort_values(by=['park_name']))\n",
    "plt.title('Relationship between observations and park sites')\n",
    "plt.xticks(rotation=90)\n",
    "plt.savefig('Fig_obsvsparksites.png')\n",
    "plt.show()\n",
    "plt.clf()"
   ]
  },
  {
   "cell_type": "code",
   "execution_count": 13,
   "metadata": {},
   "outputs": [
    {
     "data": {
      "text/html": [
       "<div>\n",
       "<style scoped>\n",
       "    .dataframe tbody tr th:only-of-type {\n",
       "        vertical-align: middle;\n",
       "    }\n",
       "\n",
       "    .dataframe tbody tr th {\n",
       "        vertical-align: top;\n",
       "    }\n",
       "\n",
       "    .dataframe thead th {\n",
       "        text-align: right;\n",
       "    }\n",
       "</style>\n",
       "<table border=\"1\" class=\"dataframe\">\n",
       "  <thead>\n",
       "    <tr style=\"text-align: right;\">\n",
       "      <th></th>\n",
       "      <th>scientific_name</th>\n",
       "      <th>park_name</th>\n",
       "      <th>observations</th>\n",
       "    </tr>\n",
       "  </thead>\n",
       "  <tbody>\n",
       "    <tr>\n",
       "      <th>4056</th>\n",
       "      <td>Ranunculus cymbalaria var. saximontanus</td>\n",
       "      <td>Bryce National Park</td>\n",
       "      <td>113</td>\n",
       "    </tr>\n",
       "    <tr>\n",
       "      <th>10085</th>\n",
       "      <td>Vaccinium membranaceum</td>\n",
       "      <td>Bryce National Park</td>\n",
       "      <td>94</td>\n",
       "    </tr>\n",
       "    <tr>\n",
       "      <th>22064</th>\n",
       "      <td>Cheilanthes tomentosa</td>\n",
       "      <td>Bryce National Park</td>\n",
       "      <td>73</td>\n",
       "    </tr>\n",
       "    <tr>\n",
       "      <th>4990</th>\n",
       "      <td>Epilobium ciliatum ssp. ciliatum</td>\n",
       "      <td>Bryce National Park</td>\n",
       "      <td>89</td>\n",
       "    </tr>\n",
       "    <tr>\n",
       "      <th>4989</th>\n",
       "      <td>Isotria medeoloides</td>\n",
       "      <td>Bryce National Park</td>\n",
       "      <td>42</td>\n",
       "    </tr>\n",
       "    <tr>\n",
       "      <th>...</th>\n",
       "      <td>...</td>\n",
       "      <td>...</td>\n",
       "      <td>...</td>\n",
       "    </tr>\n",
       "    <tr>\n",
       "      <th>12477</th>\n",
       "      <td>Bromus catharticus</td>\n",
       "      <td>Yosemite National Park</td>\n",
       "      <td>152</td>\n",
       "    </tr>\n",
       "    <tr>\n",
       "      <th>12480</th>\n",
       "      <td>Coreopsis auriculata</td>\n",
       "      <td>Yosemite National Park</td>\n",
       "      <td>140</td>\n",
       "    </tr>\n",
       "    <tr>\n",
       "      <th>12483</th>\n",
       "      <td>Trifolium obtusiflorum</td>\n",
       "      <td>Yosemite National Park</td>\n",
       "      <td>125</td>\n",
       "    </tr>\n",
       "    <tr>\n",
       "      <th>12414</th>\n",
       "      <td>Oxytropis parryi</td>\n",
       "      <td>Yosemite National Park</td>\n",
       "      <td>132</td>\n",
       "    </tr>\n",
       "    <tr>\n",
       "      <th>23295</th>\n",
       "      <td>Cucurbita pepo</td>\n",
       "      <td>Yosemite National Park</td>\n",
       "      <td>164</td>\n",
       "    </tr>\n",
       "  </tbody>\n",
       "</table>\n",
       "<p>23296 rows × 3 columns</p>\n",
       "</div>"
      ],
      "text/plain": [
       "                               scientific_name               park_name  \\\n",
       "4056   Ranunculus cymbalaria var. saximontanus     Bryce National Park   \n",
       "10085                   Vaccinium membranaceum     Bryce National Park   \n",
       "22064                    Cheilanthes tomentosa     Bryce National Park   \n",
       "4990          Epilobium ciliatum ssp. ciliatum     Bryce National Park   \n",
       "4989                       Isotria medeoloides     Bryce National Park   \n",
       "...                                        ...                     ...   \n",
       "12477                       Bromus catharticus  Yosemite National Park   \n",
       "12480                     Coreopsis auriculata  Yosemite National Park   \n",
       "12483                   Trifolium obtusiflorum  Yosemite National Park   \n",
       "12414                         Oxytropis parryi  Yosemite National Park   \n",
       "23295                           Cucurbita pepo  Yosemite National Park   \n",
       "\n",
       "       observations  \n",
       "4056            113  \n",
       "10085            94  \n",
       "22064            73  \n",
       "4990             89  \n",
       "4989             42  \n",
       "...             ...  \n",
       "12477           152  \n",
       "12480           140  \n",
       "12483           125  \n",
       "12414           132  \n",
       "23295           164  \n",
       "\n",
       "[23296 rows x 3 columns]"
      ]
     },
     "execution_count": 13,
     "metadata": {},
     "output_type": "execute_result"
    }
   ],
   "source": [
    "#Overview of variations of observations per each species for each park. \n",
    "dataset_obs.sort_values(by=['park_name'])"
   ]
  },
  {
   "cell_type": "markdown",
   "metadata": {},
   "source": [
    "Due to the large size of the file, the above overview is limited to few items but it does give a view that for each park the number of observation is different by scientific name of the species. The absence of a species from a list does not necessarily mean the species is absent from a park. The time and effort spent on species inventories varies from park to park, which may result in data gaps (REF2)."
   ]
  },
  {
   "cell_type": "code",
   "execution_count": 14,
   "metadata": {},
   "outputs": [
    {
     "name": "stdout",
     "output_type": "stream",
     "text": [
      "  category                scientific_name  \\\n",
      "0   Mammal  Clethrionomys gapperi gapperi   \n",
      "1   Mammal                      Bos bison   \n",
      "2   Mammal                     Bos taurus   \n",
      "3   Mammal                     Ovis aries   \n",
      "4   Mammal                 Cervus elaphus   \n",
      "\n",
      "                                        common_names conservation_status  \n",
      "0                           Gapper's Red-Backed Vole                 NaN  \n",
      "1                              American Bison, Bison                 NaN  \n",
      "2  Aurochs, Aurochs, Domestic Cattle (Feral), Dom...                 NaN  \n",
      "3  Domestic Sheep, Mouflon, Red Sheep, Sheep (Feral)                 NaN  \n",
      "4                                      Wapiti Or Elk                 NaN  \n",
      "<class 'pandas.core.frame.DataFrame'>\n",
      "RangeIndex: 5824 entries, 0 to 5823\n",
      "Data columns (total 4 columns):\n",
      " #   Column               Non-Null Count  Dtype \n",
      "---  ------               --------------  ----- \n",
      " 0   category             5824 non-null   object\n",
      " 1   scientific_name      5824 non-null   object\n",
      " 2   common_names         5824 non-null   object\n",
      " 3   conservation_status  191 non-null    object\n",
      "dtypes: object(4)\n",
      "memory usage: 182.1+ KB\n"
     ]
    }
   ],
   "source": [
    "#species.csv file\n",
    "print(dataset_sp.head())\n",
    "dataset_sp.info()"
   ]
  },
  {
   "cell_type": "markdown",
   "metadata": {},
   "source": [
    "The output shows that in the specis.csv file all the variables are categorical. Let's get an insight of each of these variables."
   ]
  },
  {
   "cell_type": "code",
   "execution_count": 15,
   "metadata": {},
   "outputs": [
    {
     "name": "stdout",
     "output_type": "stream",
     "text": [
      " The number of the different category of species is 7\n"
     ]
    }
   ],
   "source": [
    "#category \n",
    "print(\" The number of the different category of species is {}\".format(dataset_sp[\"category\"].nunique())) "
   ]
  },
  {
   "cell_type": "code",
   "execution_count": 16,
   "metadata": {},
   "outputs": [
    {
     "name": "stdout",
     "output_type": "stream",
     "text": [
      "['Amphibian' 'Bird' 'Fish' 'Mammal' 'Nonvascular Plant' 'Reptile'\n",
      " 'Vascular Plant']\n"
     ]
    }
   ],
   "source": [
    "print(dataset_sp.sort_values(by=['category']).category.unique())"
   ]
  },
  {
   "cell_type": "code",
   "execution_count": 17,
   "metadata": {},
   "outputs": [
    {
     "data": {
      "text/plain": [
       "category\n",
       "Amphibian              80\n",
       "Bird                  521\n",
       "Fish                  127\n",
       "Mammal                214\n",
       "Nonvascular Plant     333\n",
       "Reptile                79\n",
       "Vascular Plant       4470\n",
       "dtype: int64"
      ]
     },
     "execution_count": 17,
     "metadata": {},
     "output_type": "execute_result"
    }
   ],
   "source": [
    "dataset_sp.sort_values(by=['category']).groupby(\"category\").size()"
   ]
  },
  {
   "cell_type": "markdown",
   "metadata": {},
   "source": [
    "The output shows that Vascular Plant does have the highest values of observations (4470), followed by Bird and NonVascular Plant (respectively, 521 and 333|). Amphibian does have the lowest value of observations. These resuts are also diplayed in the below plot."
   ]
  },
  {
   "cell_type": "code",
   "execution_count": 18,
   "metadata": {},
   "outputs": [
    {
     "name": "stderr",
     "output_type": "stream",
     "text": [
      "C:\\Users\\Michela\\anaconda3\\lib\\site-packages\\seaborn\\_decorators.py:36: FutureWarning: Pass the following variable as a keyword arg: x. From version 0.12, the only valid positional argument will be `data`, and passing other arguments without an explicit keyword will result in an error or misinterpretation.\n",
      "  warnings.warn(\n"
     ]
    },
    {
     "data": {
      "image/png": "[encoded data removed]",
      "text/plain": [
       "<Figure size 720x576 with 1 Axes>"
      ]
     },
     "metadata": {
      "needs_background": "light"
     },
     "output_type": "display_data"
    },
    {
     "data": {
      "text/plain": [
       "<Figure size 432x288 with 0 Axes>"
      ]
     },
     "metadata": {},
     "output_type": "display_data"
    }
   ],
   "source": [
    "#Barplot of the countcategorys(obs) in the category species variable \n",
    "plt.figure(figsize=(10,8))\n",
    "name_species = ['Amphibian', 'Bird', 'Fish', 'Mammal', 'Nonvascular Plant', 'Reptile', 'Vascular Plant']\n",
    "num_obs_species = [80, 521, 127, 214, 333, 79, 4470]\n",
    "\n",
    "sns.countplot(dataset_sp['category'], order= name_species, palette='winter')\n",
    "plt.xticks(rotation=90)\n",
    "plt.title('Distribution of observations per category species')\n",
    "plt.savefig('Obs_per species_bar_chart.png')\n",
    "\n",
    "plt.show()\n",
    "plt.clf()"
   ]
  },
  {
   "cell_type": "code",
   "execution_count": 19,
   "metadata": {},
   "outputs": [
    {
     "name": "stdout",
     "output_type": "stream",
     "text": [
      " The number of the types of conservation status is 4\n"
     ]
    }
   ],
   "source": [
    "#conservation_status \n",
    "print(\" The number of the types of conservation status is {}\".format(dataset_sp[\"conservation_status\"].nunique())) "
   ]
  },
  {
   "cell_type": "code",
   "execution_count": 20,
   "metadata": {},
   "outputs": [
    {
     "name": "stdout",
     "output_type": "stream",
     "text": [
      "['Endangered' 'In Recovery' 'Species of Concern' 'Threatened' nan]\n"
     ]
    }
   ],
   "source": [
    "print(dataset_sp.sort_values(by=['conservation_status']).conservation_status.unique())"
   ]
  },
  {
   "cell_type": "markdown",
   "metadata": {},
   "source": [
    "Hint! The species classification is according to US Fish & Wildlife Service (REF.1). Briefly: An Endangered (E) species is defined \"in danger of extinction throughout all or a significant portion of its range\". Species in Recovery (R) are species that has been removed from the list due to recovery. Species of Concern (SC) is a species that has not been classified as E, T, C status but have been identified as important to monitor. A Threatened (T) species is \"likely to become endangered within the foreseeable future throughout all or a significant portion of its range\"."
   ]
  },
  {
   "cell_type": "markdown",
   "metadata": {},
   "source": [
    "Neverless the number of type of conservation status is four, the output shows that presence of an additional type, \"nan\". Based on the assumption that this nan means that  there is no need to manage these species, a new category in conservation_status, No-intervention, has been enclosed and further replaced with nan."
   ]
  },
  {
   "cell_type": "code",
   "execution_count": 21,
   "metadata": {},
   "outputs": [],
   "source": [
    "dataset_sp.conservation_status = dataset_sp.conservation_status.fillna('No intervention')"
   ]
  },
  {
   "cell_type": "code",
   "execution_count": 22,
   "metadata": {},
   "outputs": [
    {
     "name": "stdout",
     "output_type": "stream",
     "text": [
      "['Endangered' 'In Recovery' 'No intervention' 'Species of Concern'\n",
      " 'Threatened']\n"
     ]
    }
   ],
   "source": [
    "print(dataset_sp.sort_values(by=['conservation_status']).conservation_status.unique())"
   ]
  },
  {
   "cell_type": "code",
   "execution_count": 23,
   "metadata": {},
   "outputs": [
    {
     "data": {
      "text/plain": [
       "conservation_status\n",
       "Endangered              16\n",
       "In Recovery              4\n",
       "No intervention       5633\n",
       "Species of Concern     161\n",
       "Threatened              10\n",
       "dtype: int64"
      ]
     },
     "execution_count": 23,
     "metadata": {},
     "output_type": "execute_result"
    }
   ],
   "source": [
    "dataset_sp.groupby(\"conservation_status\").size()"
   ]
  },
  {
   "cell_type": "markdown",
   "metadata": {},
   "source": [
    "The output does show up that there is no need to manage the majority of the species, followed by species of concern (161) and few species enclosed as endangered (16), threatened (10) and in Recovery(4)."
   ]
  },
  {
   "cell_type": "markdown",
   "metadata": {},
   "source": [
    "Let's consider the distribution of conservation status for animals (category of species) excluding the species that no need of intervention."
   ]
  },
  {
   "cell_type": "code",
   "execution_count": 24,
   "metadata": {},
   "outputs": [],
   "source": [
    "#drop out the no intervantion conservation status \n",
    "cons_st = dataset_sp[dataset_sp.conservation_status.isin(['Endangered', 'In Recovery', 'Species of Concern', 'Threatened'])]"
   ]
  },
  {
   "cell_type": "code",
   "execution_count": 25,
   "metadata": {},
   "outputs": [
    {
     "data": {
      "text/html": [
       "<div>\n",
       "<style scoped>\n",
       "    .dataframe tbody tr th:only-of-type {\n",
       "        vertical-align: middle;\n",
       "    }\n",
       "\n",
       "    .dataframe tbody tr th {\n",
       "        vertical-align: top;\n",
       "    }\n",
       "\n",
       "    .dataframe thead th {\n",
       "        text-align: right;\n",
       "    }\n",
       "</style>\n",
       "<table border=\"1\" class=\"dataframe\">\n",
       "  <thead>\n",
       "    <tr style=\"text-align: right;\">\n",
       "      <th></th>\n",
       "      <th>category</th>\n",
       "      <th>conservation_status</th>\n",
       "      <th>Observation</th>\n",
       "    </tr>\n",
       "  </thead>\n",
       "  <tbody>\n",
       "    <tr>\n",
       "      <th>0</th>\n",
       "      <td>Amphibian</td>\n",
       "      <td>Endangered</td>\n",
       "      <td>1</td>\n",
       "    </tr>\n",
       "    <tr>\n",
       "      <th>1</th>\n",
       "      <td>Amphibian</td>\n",
       "      <td>Species of Concern</td>\n",
       "      <td>4</td>\n",
       "    </tr>\n",
       "    <tr>\n",
       "      <th>2</th>\n",
       "      <td>Amphibian</td>\n",
       "      <td>Threatened</td>\n",
       "      <td>2</td>\n",
       "    </tr>\n",
       "    <tr>\n",
       "      <th>3</th>\n",
       "      <td>Bird</td>\n",
       "      <td>Endangered</td>\n",
       "      <td>4</td>\n",
       "    </tr>\n",
       "    <tr>\n",
       "      <th>4</th>\n",
       "      <td>Bird</td>\n",
       "      <td>In Recovery</td>\n",
       "      <td>3</td>\n",
       "    </tr>\n",
       "    <tr>\n",
       "      <th>5</th>\n",
       "      <td>Bird</td>\n",
       "      <td>Species of Concern</td>\n",
       "      <td>72</td>\n",
       "    </tr>\n",
       "    <tr>\n",
       "      <th>6</th>\n",
       "      <td>Fish</td>\n",
       "      <td>Endangered</td>\n",
       "      <td>3</td>\n",
       "    </tr>\n",
       "    <tr>\n",
       "      <th>7</th>\n",
       "      <td>Fish</td>\n",
       "      <td>Species of Concern</td>\n",
       "      <td>4</td>\n",
       "    </tr>\n",
       "    <tr>\n",
       "      <th>8</th>\n",
       "      <td>Fish</td>\n",
       "      <td>Threatened</td>\n",
       "      <td>4</td>\n",
       "    </tr>\n",
       "    <tr>\n",
       "      <th>9</th>\n",
       "      <td>Mammal</td>\n",
       "      <td>Endangered</td>\n",
       "      <td>7</td>\n",
       "    </tr>\n",
       "    <tr>\n",
       "      <th>10</th>\n",
       "      <td>Mammal</td>\n",
       "      <td>In Recovery</td>\n",
       "      <td>1</td>\n",
       "    </tr>\n",
       "    <tr>\n",
       "      <th>11</th>\n",
       "      <td>Mammal</td>\n",
       "      <td>Species of Concern</td>\n",
       "      <td>28</td>\n",
       "    </tr>\n",
       "    <tr>\n",
       "      <th>12</th>\n",
       "      <td>Mammal</td>\n",
       "      <td>Threatened</td>\n",
       "      <td>2</td>\n",
       "    </tr>\n",
       "    <tr>\n",
       "      <th>13</th>\n",
       "      <td>Nonvascular Plant</td>\n",
       "      <td>Species of Concern</td>\n",
       "      <td>5</td>\n",
       "    </tr>\n",
       "    <tr>\n",
       "      <th>14</th>\n",
       "      <td>Reptile</td>\n",
       "      <td>Species of Concern</td>\n",
       "      <td>5</td>\n",
       "    </tr>\n",
       "    <tr>\n",
       "      <th>15</th>\n",
       "      <td>Vascular Plant</td>\n",
       "      <td>Endangered</td>\n",
       "      <td>1</td>\n",
       "    </tr>\n",
       "    <tr>\n",
       "      <th>16</th>\n",
       "      <td>Vascular Plant</td>\n",
       "      <td>Species of Concern</td>\n",
       "      <td>43</td>\n",
       "    </tr>\n",
       "    <tr>\n",
       "      <th>17</th>\n",
       "      <td>Vascular Plant</td>\n",
       "      <td>Threatened</td>\n",
       "      <td>2</td>\n",
       "    </tr>\n",
       "  </tbody>\n",
       "</table>\n",
       "</div>"
      ],
      "text/plain": [
       "             category conservation_status  Observation\n",
       "0           Amphibian          Endangered            1\n",
       "1           Amphibian  Species of Concern            4\n",
       "2           Amphibian          Threatened            2\n",
       "3                Bird          Endangered            4\n",
       "4                Bird         In Recovery            3\n",
       "5                Bird  Species of Concern           72\n",
       "6                Fish          Endangered            3\n",
       "7                Fish  Species of Concern            4\n",
       "8                Fish          Threatened            4\n",
       "9              Mammal          Endangered            7\n",
       "10             Mammal         In Recovery            1\n",
       "11             Mammal  Species of Concern           28\n",
       "12             Mammal          Threatened            2\n",
       "13  Nonvascular Plant  Species of Concern            5\n",
       "14            Reptile  Species of Concern            5\n",
       "15     Vascular Plant          Endangered            1\n",
       "16     Vascular Plant  Species of Concern           43\n",
       "17     Vascular Plant          Threatened            2"
      ]
     },
     "execution_count": 25,
     "metadata": {},
     "output_type": "execute_result"
    }
   ],
   "source": [
    "# create a group using groupby\n",
    "group = cons_st.groupby(['category', 'conservation_status'])\n",
    "# size of group to count observations\n",
    "group = group.size()\n",
    "  \n",
    "# make a column name \n",
    "group.reset_index(name='Observation')"
   ]
  },
  {
   "cell_type": "code",
   "execution_count": 26,
   "metadata": {},
   "outputs": [
    {
     "data": {
      "image/png": "[encoded data removed]",
      "text/plain": [
       "<Figure size 720x576 with 1 Axes>"
      ]
     },
     "metadata": {
      "needs_background": "light"
     },
     "output_type": "display_data"
    },
    {
     "data": {
      "text/plain": [
       "<Figure size 432x288 with 0 Axes>"
      ]
     },
     "metadata": {},
     "output_type": "display_data"
    }
   ],
   "source": [
    "# Plot species distribution per conservation status\n",
    "#Plot category vs conversation_status \n",
    "conservation_status = ['Endangered', 'In Recovery', 'Species of Concern', 'Threatened']\n",
    "#category1 =Amphibian\n",
    "As =  [1, 0, 4, 2]  \n",
    "#category2 = Bird\n",
    "Bs = [4, 3, 72, 0]    \n",
    "#category3 = Fish\n",
    "Cs = [3, 0, 4, 4]     \n",
    "#category4 = Mammal\n",
    "Ds = [ 7, 1, 28, 2]   \n",
    "#category5 = Non vascular plant\n",
    "Es = [ 0, 0, 5, 0]        \n",
    "#category6 = Reptile\n",
    "Fs = [0, 0, 5, 0]        \n",
    "#category7 = Vascular plant\n",
    "Gs = [1, 0, 43, 2]  \n",
    "\n",
    "x = range(4)\n",
    "\n",
    "c_bottom = np.add(As, Bs)\n",
    "# create d_bottom, e_bottom, f_bottom and g_bottom here\n",
    "d_bottom = np.add(c_bottom, Cs)\n",
    "e_bottom = np.add(d_bottom, Cs)\n",
    "f_bottom = np.add(e_bottom, Ds)\n",
    "g_bottom = np.add(f_bottom, Fs)\n",
    "\n",
    "# Make figure with the required dimension \n",
    "plt.figure(figsize=(10, 8))\n",
    "\n",
    "#Plot each of the four graphs \n",
    "plt.bar(range(4), As)\n",
    "plt.bar(range(4), Bs, bottom=As)\n",
    "plt.bar(range(4), Cs, bottom = c_bottom)\n",
    "plt.bar(range(4), Ds, bottom = d_bottom)\n",
    "plt.bar(range(4), Es, bottom = d_bottom)\n",
    "plt.bar(range(4), Fs, bottom = f_bottom)\n",
    "plt.bar(range(4), Gs, bottom = g_bottom)\n",
    "\n",
    "#Create the required set of axes\n",
    "ax=plt.subplot()\n",
    "ax.set_xticks(range(4))\n",
    "ax.set_xticklabels(conservation_status, rotation=90)\n",
    "\n",
    "#Add title, and label to x and y axis \n",
    "plt.title('Species distribution per conservation status')\n",
    "plt.xlabel('Conservation status')\n",
    "plt.ylabel('Number of species')\n",
    "#Enclose legend to the plot \n",
    "legend_labels = ['Amphibian', 'Bird', 'Fish', 'Mammal', 'Nonvascular Plant', 'Reptile', 'Vascular Plant']\n",
    "plt.legend(legend_labels, loc=1)\n",
    "\n",
    "#Save plot in png format \n",
    "plt.savefig('conversion_status_stacked_bar.png')\n",
    "plt.show()\n",
    "plt.clf()"
   ]
  },
  {
   "cell_type": "markdown",
   "metadata": {},
   "source": [
    "From the plot, it can been seen that Birds, Vascular Plant and Mammal, classified as Species of Concern, have the highest distribution compared both with the other species and related conservation status."
   ]
  },
  {
   "cell_type": "markdown",
   "metadata": {},
   "source": [
    "Let's see whether certain types of species are  more likely to be endangered. This issue can be determined by calculating the percentage of danger status in each species."
   ]
  },
  {
   "cell_type": "markdown",
   "metadata": {},
   "source": [
    "Because the animal which is endangered is also protected, a new variable, is_protected, have been enclosed for this type of species."
   ]
  },
  {
   "cell_type": "code",
   "execution_count": 27,
   "metadata": {},
   "outputs": [],
   "source": [
    "dataset_sp['is_protected'] = dataset_sp.conservation_status != 'No intervention'  #!= is different than "
   ]
  },
  {
   "cell_type": "code",
   "execution_count": 28,
   "metadata": {},
   "outputs": [
    {
     "data": {
      "text/html": [
       "<div>\n",
       "<style scoped>\n",
       "    .dataframe tbody tr th:only-of-type {\n",
       "        vertical-align: middle;\n",
       "    }\n",
       "\n",
       "    .dataframe tbody tr th {\n",
       "        vertical-align: top;\n",
       "    }\n",
       "\n",
       "    .dataframe thead th {\n",
       "        text-align: right;\n",
       "    }\n",
       "</style>\n",
       "<table border=\"1\" class=\"dataframe\">\n",
       "  <thead>\n",
       "    <tr style=\"text-align: right;\">\n",
       "      <th>is_protected</th>\n",
       "      <th>False</th>\n",
       "      <th>True</th>\n",
       "    </tr>\n",
       "    <tr>\n",
       "      <th>category</th>\n",
       "      <th></th>\n",
       "      <th></th>\n",
       "    </tr>\n",
       "  </thead>\n",
       "  <tbody>\n",
       "    <tr>\n",
       "      <th>Amphibian</th>\n",
       "      <td>73</td>\n",
       "      <td>7</td>\n",
       "    </tr>\n",
       "    <tr>\n",
       "      <th>Bird</th>\n",
       "      <td>442</td>\n",
       "      <td>79</td>\n",
       "    </tr>\n",
       "    <tr>\n",
       "      <th>Fish</th>\n",
       "      <td>116</td>\n",
       "      <td>11</td>\n",
       "    </tr>\n",
       "    <tr>\n",
       "      <th>Mammal</th>\n",
       "      <td>176</td>\n",
       "      <td>38</td>\n",
       "    </tr>\n",
       "    <tr>\n",
       "      <th>Nonvascular Plant</th>\n",
       "      <td>328</td>\n",
       "      <td>5</td>\n",
       "    </tr>\n",
       "    <tr>\n",
       "      <th>Reptile</th>\n",
       "      <td>74</td>\n",
       "      <td>5</td>\n",
       "    </tr>\n",
       "    <tr>\n",
       "      <th>Vascular Plant</th>\n",
       "      <td>4424</td>\n",
       "      <td>46</td>\n",
       "    </tr>\n",
       "  </tbody>\n",
       "</table>\n",
       "</div>"
      ],
      "text/plain": [
       "is_protected       False  True\n",
       "category                      \n",
       "Amphibian             73     7\n",
       "Bird                 442    79\n",
       "Fish                 116    11\n",
       "Mammal               176    38\n",
       "Nonvascular Plant    328     5\n",
       "Reptile               74     5\n",
       "Vascular Plant      4424    46"
      ]
     },
     "execution_count": 28,
     "metadata": {},
     "output_type": "execute_result"
    }
   ],
   "source": [
    "category_protected_feq = pd.crosstab(dataset_sp.category, dataset_sp.is_protected)\n",
    "category_protected_feq"
   ]
  },
  {
   "cell_type": "code",
   "execution_count": 29,
   "metadata": {},
   "outputs": [
    {
     "data": {
      "text/plain": [
       "category\n",
       "Amphibian             8.750000\n",
       "Bird                 15.163148\n",
       "Fish                  8.661417\n",
       "Mammal               17.757009\n",
       "Nonvascular Plant     1.501502\n",
       "Reptile               6.329114\n",
       "Vascular Plant        1.029083\n",
       "dtype: float64"
      ]
     },
     "execution_count": 29,
     "metadata": {},
     "output_type": "execute_result"
    }
   ],
   "source": [
    "category_protected_prop =category_protected_feq[True]/category_protected_feq.sum(axis=1)*100\n",
    "category_protected_prop"
   ]
  },
  {
   "cell_type": "markdown",
   "metadata": {},
   "source": [
    "The output shows that Mammals and Birds are more likely to be Endangered (respectively 17.8 and 15.2). On the other side, Non vascular Plant and Vascular Plant seem not to be endangered (respectively 1.5 and 1.0). The below plot does show the distribution of types of species more likely to be endangered."
   ]
  },
  {
   "cell_type": "code",
   "execution_count": 30,
   "metadata": {},
   "outputs": [
    {
     "data": {
      "image/png": "[encoded data removed]",
      "text/plain": [
       "<Figure size 720x576 with 1 Axes>"
      ]
     },
     "metadata": {},
     "output_type": "display_data"
    },
    {
     "data": {
      "text/plain": [
       "<Figure size 432x288 with 0 Axes>"
      ]
     },
     "metadata": {},
     "output_type": "display_data"
    }
   ],
   "source": [
    "#Pie chart of the distribution of types of species more likely to be endangered.\n",
    "plt.figure(figsize=(10,8))\n",
    "species_category_names = [\"Amphibian\", \"Bird\", \"Fish\", \"Mammal\", \"Nonvascular Plant\", \"Reptile\", \"Vascular Plant\"]\n",
    "species_category_freqs = [8.75, 15.16, 8.66, 17.76, 1.50, 6.34, 1.03]\n",
    "\n",
    "plt.pie(species_category_freqs)\n",
    "plt.axis('equal')\n",
    "\n",
    "#Enclose the percentange to each slice \n",
    "plt.pie(species_category_freqs, labels=species_category_names, autopct = '%0.1f%%')\n",
    "plt.title('Distribution of types of species more likely to be endangered') \n",
    "plt.savefig('Fig4.png')\n",
    "plt.show()\n",
    "plt.clf()"
   ]
  },
  {
   "cell_type": "markdown",
   "metadata": {},
   "source": [
    "To get an insight whether the differences between species and their conservation status could be significant, the Chi-Square test has been used. "
   ]
  },
  {
   "cell_type": "code",
   "execution_count": 31,
   "metadata": {},
   "outputs": [
    {
     "name": "stdout",
     "output_type": "stream",
     "text": [
      "3.095911909904608e-98\n"
     ]
    }
   ],
   "source": [
    "#Chi-Square test\n",
    "from scipy.stats import chi2_contingency\n",
    "protected_category_feq = pd.crosstab(dataset_sp.is_protected,dataset_sp.category)\n",
    "chi2, pval, dof, expected = chi2_contingency(protected_category_feq)\n",
    "print(pval)"
   ]
  },
  {
   "cell_type": "markdown",
   "metadata": {},
   "source": [
    "From the output, we can conlude that species category and is_protected association is likely to be significant."
   ]
  },
  {
   "cell_type": "markdown",
   "metadata": {},
   "source": [
    "Let's see which species were spotted the most at each park. "
   ]
  },
  {
   "cell_type": "markdown",
   "metadata": {},
   "source": [
    "Let's see which species were spotted the most at each park. To achieve this, the two dataframse have been merged based on their common variable, scientific_name. "
   ]
  },
  {
   "cell_type": "code",
   "execution_count": 32,
   "metadata": {},
   "outputs": [],
   "source": [
    "#Merge the observations.csv and species.csv files beased on their common variable, scientific_name. \n",
    "merged_df2 = pd.merge(dataset_obs, dataset_sp, on ='scientific_name')"
   ]
  },
  {
   "cell_type": "markdown",
   "metadata": {},
   "source": [
    "Let's inpect and compare the new dataset, getting an overview of first items of each datasets, a concise summary of the dataframes and some their basic basic statistical details."
   ]
  },
  {
   "cell_type": "code",
   "execution_count": 33,
   "metadata": {},
   "outputs": [
    {
     "name": "stdout",
     "output_type": "stream",
     "text": [
      "      scientific_name                            park_name  observations  \\\n",
      "0  Vicia benghalensis  Great Smoky Mountains National Park            68   \n",
      "1  Vicia benghalensis               Yosemite National Park           148   \n",
      "2  Vicia benghalensis            Yellowstone National Park           247   \n",
      "3  Vicia benghalensis                  Bryce National Park           104   \n",
      "4      Neovison vison  Great Smoky Mountains National Park            77   \n",
      "\n",
      "         category                        common_names conservation_status  \\\n",
      "0  Vascular Plant  Purple Vetch, Reddish Tufted Vetch     No intervention   \n",
      "1  Vascular Plant  Purple Vetch, Reddish Tufted Vetch     No intervention   \n",
      "2  Vascular Plant  Purple Vetch, Reddish Tufted Vetch     No intervention   \n",
      "3  Vascular Plant  Purple Vetch, Reddish Tufted Vetch     No intervention   \n",
      "4          Mammal                       American Mink     No intervention   \n",
      "\n",
      "   is_protected  \n",
      "0         False  \n",
      "1         False  \n",
      "2         False  \n",
      "3         False  \n",
      "4         False  \n",
      "<class 'pandas.core.frame.DataFrame'>\n",
      "Int64Index: 25632 entries, 0 to 25631\n",
      "Data columns (total 7 columns):\n",
      " #   Column               Non-Null Count  Dtype \n",
      "---  ------               --------------  ----- \n",
      " 0   scientific_name      25632 non-null  object\n",
      " 1   park_name            25632 non-null  object\n",
      " 2   observations         25632 non-null  int64 \n",
      " 3   category             25632 non-null  object\n",
      " 4   common_names         25632 non-null  object\n",
      " 5   conservation_status  25632 non-null  object\n",
      " 6   is_protected         25632 non-null  bool  \n",
      "dtypes: bool(1), int64(1), object(5)\n",
      "memory usage: 1.4+ MB\n"
     ]
    },
    {
     "data": {
      "text/html": [
       "<div>\n",
       "<style scoped>\n",
       "    .dataframe tbody tr th:only-of-type {\n",
       "        vertical-align: middle;\n",
       "    }\n",
       "\n",
       "    .dataframe tbody tr th {\n",
       "        vertical-align: top;\n",
       "    }\n",
       "\n",
       "    .dataframe thead th {\n",
       "        text-align: right;\n",
       "    }\n",
       "</style>\n",
       "<table border=\"1\" class=\"dataframe\">\n",
       "  <thead>\n",
       "    <tr style=\"text-align: right;\">\n",
       "      <th></th>\n",
       "      <th>observations</th>\n",
       "    </tr>\n",
       "  </thead>\n",
       "  <tbody>\n",
       "    <tr>\n",
       "      <th>count</th>\n",
       "      <td>25632.000000</td>\n",
       "    </tr>\n",
       "    <tr>\n",
       "      <th>mean</th>\n",
       "      <td>142.214693</td>\n",
       "    </tr>\n",
       "    <tr>\n",
       "      <th>std</th>\n",
       "      <td>69.912475</td>\n",
       "    </tr>\n",
       "    <tr>\n",
       "      <th>min</th>\n",
       "      <td>9.000000</td>\n",
       "    </tr>\n",
       "    <tr>\n",
       "      <th>25%</th>\n",
       "      <td>86.000000</td>\n",
       "    </tr>\n",
       "    <tr>\n",
       "      <th>50%</th>\n",
       "      <td>124.000000</td>\n",
       "    </tr>\n",
       "    <tr>\n",
       "      <th>75%</th>\n",
       "      <td>195.000000</td>\n",
       "    </tr>\n",
       "    <tr>\n",
       "      <th>max</th>\n",
       "      <td>321.000000</td>\n",
       "    </tr>\n",
       "  </tbody>\n",
       "</table>\n",
       "</div>"
      ],
      "text/plain": [
       "       observations\n",
       "count  25632.000000\n",
       "mean     142.214693\n",
       "std       69.912475\n",
       "min        9.000000\n",
       "25%       86.000000\n",
       "50%      124.000000\n",
       "75%      195.000000\n",
       "max      321.000000"
      ]
     },
     "execution_count": 33,
     "metadata": {},
     "output_type": "execute_result"
    }
   ],
   "source": [
    "print(merged_df2.head())\n",
    "merged_df2.columns.values  \n",
    "merged_df2.info()\n",
    "merged_df2.describe()"
   ]
  },
  {
   "cell_type": "code",
   "execution_count": 34,
   "metadata": {},
   "outputs": [
    {
     "name": "stdout",
     "output_type": "stream",
     "text": [
      "179424\n",
      "(25632, 7)\n"
     ]
    }
   ],
   "source": [
    "# dataframe.size\n",
    "size3 = merged_df2.size\n",
    "print(size3)\n",
    "# dataframe.shape\n",
    "shape3 =merged_df2.shape\n",
    "print(shape3)"
   ]
  },
  {
   "cell_type": "code",
   "execution_count": 35,
   "metadata": {},
   "outputs": [
    {
     "data": {
      "text/html": [
       "<div>\n",
       "<style scoped>\n",
       "    .dataframe tbody tr th:only-of-type {\n",
       "        vertical-align: middle;\n",
       "    }\n",
       "\n",
       "    .dataframe tbody tr th {\n",
       "        vertical-align: top;\n",
       "    }\n",
       "\n",
       "    .dataframe thead th {\n",
       "        text-align: right;\n",
       "    }\n",
       "</style>\n",
       "<table border=\"1\" class=\"dataframe\">\n",
       "  <thead>\n",
       "    <tr style=\"text-align: right;\">\n",
       "      <th></th>\n",
       "      <th>category</th>\n",
       "      <th>park_name</th>\n",
       "      <th>Obs</th>\n",
       "    </tr>\n",
       "  </thead>\n",
       "  <tbody>\n",
       "    <tr>\n",
       "      <th>0</th>\n",
       "      <td>Amphibian</td>\n",
       "      <td>Bryce National Park</td>\n",
       "      <td>82</td>\n",
       "    </tr>\n",
       "    <tr>\n",
       "      <th>1</th>\n",
       "      <td>Amphibian</td>\n",
       "      <td>Great Smoky Mountains National Park</td>\n",
       "      <td>82</td>\n",
       "    </tr>\n",
       "    <tr>\n",
       "      <th>2</th>\n",
       "      <td>Amphibian</td>\n",
       "      <td>Yellowstone National Park</td>\n",
       "      <td>82</td>\n",
       "    </tr>\n",
       "    <tr>\n",
       "      <th>3</th>\n",
       "      <td>Amphibian</td>\n",
       "      <td>Yosemite National Park</td>\n",
       "      <td>82</td>\n",
       "    </tr>\n",
       "    <tr>\n",
       "      <th>4</th>\n",
       "      <td>Bird</td>\n",
       "      <td>Bryce National Park</td>\n",
       "      <td>591</td>\n",
       "    </tr>\n",
       "    <tr>\n",
       "      <th>5</th>\n",
       "      <td>Bird</td>\n",
       "      <td>Great Smoky Mountains National Park</td>\n",
       "      <td>591</td>\n",
       "    </tr>\n",
       "    <tr>\n",
       "      <th>6</th>\n",
       "      <td>Bird</td>\n",
       "      <td>Yellowstone National Park</td>\n",
       "      <td>591</td>\n",
       "    </tr>\n",
       "    <tr>\n",
       "      <th>7</th>\n",
       "      <td>Bird</td>\n",
       "      <td>Yosemite National Park</td>\n",
       "      <td>591</td>\n",
       "    </tr>\n",
       "    <tr>\n",
       "      <th>8</th>\n",
       "      <td>Fish</td>\n",
       "      <td>Bryce National Park</td>\n",
       "      <td>131</td>\n",
       "    </tr>\n",
       "    <tr>\n",
       "      <th>9</th>\n",
       "      <td>Fish</td>\n",
       "      <td>Great Smoky Mountains National Park</td>\n",
       "      <td>131</td>\n",
       "    </tr>\n",
       "    <tr>\n",
       "      <th>10</th>\n",
       "      <td>Fish</td>\n",
       "      <td>Yellowstone National Park</td>\n",
       "      <td>131</td>\n",
       "    </tr>\n",
       "    <tr>\n",
       "      <th>11</th>\n",
       "      <td>Fish</td>\n",
       "      <td>Yosemite National Park</td>\n",
       "      <td>131</td>\n",
       "    </tr>\n",
       "    <tr>\n",
       "      <th>12</th>\n",
       "      <td>Mammal</td>\n",
       "      <td>Bryce National Park</td>\n",
       "      <td>300</td>\n",
       "    </tr>\n",
       "    <tr>\n",
       "      <th>13</th>\n",
       "      <td>Mammal</td>\n",
       "      <td>Great Smoky Mountains National Park</td>\n",
       "      <td>300</td>\n",
       "    </tr>\n",
       "    <tr>\n",
       "      <th>14</th>\n",
       "      <td>Mammal</td>\n",
       "      <td>Yellowstone National Park</td>\n",
       "      <td>300</td>\n",
       "    </tr>\n",
       "    <tr>\n",
       "      <th>15</th>\n",
       "      <td>Mammal</td>\n",
       "      <td>Yosemite National Park</td>\n",
       "      <td>300</td>\n",
       "    </tr>\n",
       "    <tr>\n",
       "      <th>16</th>\n",
       "      <td>Nonvascular Plant</td>\n",
       "      <td>Bryce National Park</td>\n",
       "      <td>333</td>\n",
       "    </tr>\n",
       "    <tr>\n",
       "      <th>17</th>\n",
       "      <td>Nonvascular Plant</td>\n",
       "      <td>Great Smoky Mountains National Park</td>\n",
       "      <td>333</td>\n",
       "    </tr>\n",
       "    <tr>\n",
       "      <th>18</th>\n",
       "      <td>Nonvascular Plant</td>\n",
       "      <td>Yellowstone National Park</td>\n",
       "      <td>333</td>\n",
       "    </tr>\n",
       "    <tr>\n",
       "      <th>19</th>\n",
       "      <td>Nonvascular Plant</td>\n",
       "      <td>Yosemite National Park</td>\n",
       "      <td>333</td>\n",
       "    </tr>\n",
       "    <tr>\n",
       "      <th>20</th>\n",
       "      <td>Reptile</td>\n",
       "      <td>Bryce National Park</td>\n",
       "      <td>81</td>\n",
       "    </tr>\n",
       "    <tr>\n",
       "      <th>21</th>\n",
       "      <td>Reptile</td>\n",
       "      <td>Great Smoky Mountains National Park</td>\n",
       "      <td>81</td>\n",
       "    </tr>\n",
       "    <tr>\n",
       "      <th>22</th>\n",
       "      <td>Reptile</td>\n",
       "      <td>Yellowstone National Park</td>\n",
       "      <td>81</td>\n",
       "    </tr>\n",
       "    <tr>\n",
       "      <th>23</th>\n",
       "      <td>Reptile</td>\n",
       "      <td>Yosemite National Park</td>\n",
       "      <td>81</td>\n",
       "    </tr>\n",
       "    <tr>\n",
       "      <th>24</th>\n",
       "      <td>Vascular Plant</td>\n",
       "      <td>Bryce National Park</td>\n",
       "      <td>4890</td>\n",
       "    </tr>\n",
       "    <tr>\n",
       "      <th>25</th>\n",
       "      <td>Vascular Plant</td>\n",
       "      <td>Great Smoky Mountains National Park</td>\n",
       "      <td>4890</td>\n",
       "    </tr>\n",
       "    <tr>\n",
       "      <th>26</th>\n",
       "      <td>Vascular Plant</td>\n",
       "      <td>Yellowstone National Park</td>\n",
       "      <td>4890</td>\n",
       "    </tr>\n",
       "    <tr>\n",
       "      <th>27</th>\n",
       "      <td>Vascular Plant</td>\n",
       "      <td>Yosemite National Park</td>\n",
       "      <td>4890</td>\n",
       "    </tr>\n",
       "  </tbody>\n",
       "</table>\n",
       "</div>"
      ],
      "text/plain": [
       "             category                            park_name   Obs\n",
       "0           Amphibian                  Bryce National Park    82\n",
       "1           Amphibian  Great Smoky Mountains National Park    82\n",
       "2           Amphibian            Yellowstone National Park    82\n",
       "3           Amphibian               Yosemite National Park    82\n",
       "4                Bird                  Bryce National Park   591\n",
       "5                Bird  Great Smoky Mountains National Park   591\n",
       "6                Bird            Yellowstone National Park   591\n",
       "7                Bird               Yosemite National Park   591\n",
       "8                Fish                  Bryce National Park   131\n",
       "9                Fish  Great Smoky Mountains National Park   131\n",
       "10               Fish            Yellowstone National Park   131\n",
       "11               Fish               Yosemite National Park   131\n",
       "12             Mammal                  Bryce National Park   300\n",
       "13             Mammal  Great Smoky Mountains National Park   300\n",
       "14             Mammal            Yellowstone National Park   300\n",
       "15             Mammal               Yosemite National Park   300\n",
       "16  Nonvascular Plant                  Bryce National Park   333\n",
       "17  Nonvascular Plant  Great Smoky Mountains National Park   333\n",
       "18  Nonvascular Plant            Yellowstone National Park   333\n",
       "19  Nonvascular Plant               Yosemite National Park   333\n",
       "20            Reptile                  Bryce National Park    81\n",
       "21            Reptile  Great Smoky Mountains National Park    81\n",
       "22            Reptile            Yellowstone National Park    81\n",
       "23            Reptile               Yosemite National Park    81\n",
       "24     Vascular Plant                  Bryce National Park  4890\n",
       "25     Vascular Plant  Great Smoky Mountains National Park  4890\n",
       "26     Vascular Plant            Yellowstone National Park  4890\n",
       "27     Vascular Plant               Yosemite National Park  4890"
      ]
     },
     "execution_count": 35,
     "metadata": {},
     "output_type": "execute_result"
    }
   ],
   "source": [
    "# create a group using groupby\n",
    "group2 = merged_df2.groupby(['category', 'park_name'])\n",
    "  \n",
    "# size of group to count observations\n",
    "group2 = group2.size()\n",
    "  \n",
    "# make a column name \n",
    "group2.reset_index(name='Obs')"
   ]
  },
  {
   "cell_type": "code",
   "execution_count": 36,
   "metadata": {},
   "outputs": [
    {
     "data": {
      "image/png": "[encoded data removed]",
      "text/plain": [
       "<Figure size 720x576 with 1 Axes>"
      ]
     },
     "metadata": {
      "needs_background": "light"
     },
     "output_type": "display_data"
    },
    {
     "data": {
      "text/plain": [
       "<Figure size 432x288 with 0 Axes>"
      ]
     },
     "metadata": {},
     "output_type": "display_data"
    }
   ],
   "source": [
    "#Plot species category distribution per parks sites'\n",
    "\n",
    "name_park = ['Bryce National Park', 'Great Smoky Mountains National Park', 'Yellowstone National Park', 'Yosemite National Park']\n",
    "\n",
    "As =  [82, 82, 82, 82]   #category1=Amphibian\n",
    "Bs = [591, 591, 591, 591]    #category2 = Bird\n",
    "Cs = [131, 131, 131, 131]     #category3 = Fish\n",
    "Ds = [ 300, 300, 300, 300]  #category4 = Mammal\n",
    "Es = [ 333, 333, 333, 333]    #category5 = Non vascular plant   \n",
    "Fs = [81, 81, 81, 81]      #category6 = Reptile  \n",
    "Gs = [4890, 4890, 4890, 4890]     #category7 = Vascular plant\n",
    "\n",
    "x = range(4)\n",
    "\n",
    "c_bottom = np.add(As, Bs)\n",
    "# create d_bottom, e_bottom, f_bottom and g_bottom here\n",
    "d_bottom = np.add(c_bottom, Cs) # create d_bottom \n",
    "e_bottom = np.add(d_bottom, Cs) # create e_bottom \n",
    "f_bottom = np.add(e_bottom, Ds) # create f_bottom \n",
    "g_bottom = np.add(f_bottom, Fs) # create g_bottom \n",
    "\n",
    "# Make figure with the required dimension \n",
    "plt.figure(figsize=(10, 8))\n",
    "\n",
    "# Plot each of the seven graphs \n",
    "plt.bar(range(4), As)\n",
    "plt.bar(range(4), Bs, bottom=As)\n",
    "plt.bar(range(4), Cs, bottom = c_bottom)\n",
    "plt.bar(range(4), Ds, bottom = d_bottom)\n",
    "plt.bar(range(4), Es, bottom = d_bottom)\n",
    "plt.bar(range(4), Fs, bottom = f_bottom)\n",
    "plt.bar(range(4), Gs, bottom = g_bottom)\n",
    "\n",
    "#Create the required set of axes\n",
    "ax=plt.subplot()\n",
    "ax.set_xticks(range(4))\n",
    "ax.set_xticklabels(name_park, rotation=45)\n",
    "\n",
    "\n",
    "# Add title, and label to x and y axis \n",
    "plt.title('Species distribution per parks')\n",
    "plt.xticks(rotation=90)\n",
    "plt.xlabel('Name park')\n",
    "plt.ylabel('Number of species')\n",
    "\n",
    "\n",
    "#Enclose legend to the plot \n",
    "legend_labels = ['Amphibian', 'Bird', 'Fish', 'Mammal', 'Nonvascular Plant', 'Reptile', 'Vascular Plant']\n",
    "plt.legend(legend_labels, loc=0)  #loc=1\n",
    "\n",
    "#Save plot in png format \n",
    "plt.savefig('park_stacked_bar.png')\n",
    "\n",
    "plt.show()\n",
    "plt.clf()"
   ]
  },
  {
   "cell_type": "markdown",
   "metadata": {},
   "source": [
    "Vascular plant and birds seem to be the species that were spotted the most at each park site. However,  neverless the number of observations for each park site are equal, the distribution of their category species is different. See below plots related to the distribution of each category species per each of the four park sites. "
   ]
  },
  {
   "cell_type": "code",
   "execution_count": 37,
   "metadata": {},
   "outputs": [
    {
     "name": "stdout",
     "output_type": "stream",
     "text": [
      "                      scientific_name                            park_name  \\\n",
      "164  Scaphiopus holbrookii holbrookii               Yosemite National Park   \n",
      "165  Scaphiopus holbrookii holbrookii                  Bryce National Park   \n",
      "166  Scaphiopus holbrookii holbrookii  Great Smoky Mountains National Park   \n",
      "167  Scaphiopus holbrookii holbrookii            Yellowstone National Park   \n",
      "516     Eurycea longicauda longicauda               Yosemite National Park   \n",
      "\n",
      "     observations   category         common_names conservation_status  \\\n",
      "164           177  Amphibian    Eastern Spadefoot     No intervention   \n",
      "165           104  Amphibian    Eastern Spadefoot     No intervention   \n",
      "166            86  Amphibian    Eastern Spadefoot     No intervention   \n",
      "167           236  Amphibian    Eastern Spadefoot     No intervention   \n",
      "516           147  Amphibian  Longtail Salamander     No intervention   \n",
      "\n",
      "     is_protected  \n",
      "164         False  \n",
      "165         False  \n",
      "166         False  \n",
      "167         False  \n",
      "516         False  \n"
     ]
    },
    {
     "data": {
      "text/html": [
       "<div>\n",
       "<style scoped>\n",
       "    .dataframe tbody tr th:only-of-type {\n",
       "        vertical-align: middle;\n",
       "    }\n",
       "\n",
       "    .dataframe tbody tr th {\n",
       "        vertical-align: top;\n",
       "    }\n",
       "\n",
       "    .dataframe thead th {\n",
       "        text-align: right;\n",
       "    }\n",
       "</style>\n",
       "<table border=\"1\" class=\"dataframe\">\n",
       "  <thead>\n",
       "    <tr style=\"text-align: right;\">\n",
       "      <th></th>\n",
       "      <th>observations</th>\n",
       "    </tr>\n",
       "  </thead>\n",
       "  <tbody>\n",
       "    <tr>\n",
       "      <th>count</th>\n",
       "      <td>328.000000</td>\n",
       "    </tr>\n",
       "    <tr>\n",
       "      <th>mean</th>\n",
       "      <td>137.402439</td>\n",
       "    </tr>\n",
       "    <tr>\n",
       "      <th>std</th>\n",
       "      <td>71.389333</td>\n",
       "    </tr>\n",
       "    <tr>\n",
       "      <th>min</th>\n",
       "      <td>11.000000</td>\n",
       "    </tr>\n",
       "    <tr>\n",
       "      <th>25%</th>\n",
       "      <td>82.000000</td>\n",
       "    </tr>\n",
       "    <tr>\n",
       "      <th>50%</th>\n",
       "      <td>115.500000</td>\n",
       "    </tr>\n",
       "    <tr>\n",
       "      <th>75%</th>\n",
       "      <td>178.500000</td>\n",
       "    </tr>\n",
       "    <tr>\n",
       "      <th>max</th>\n",
       "      <td>301.000000</td>\n",
       "    </tr>\n",
       "  </tbody>\n",
       "</table>\n",
       "</div>"
      ],
      "text/plain": [
       "       observations\n",
       "count    328.000000\n",
       "mean     137.402439\n",
       "std       71.389333\n",
       "min       11.000000\n",
       "25%       82.000000\n",
       "50%      115.500000\n",
       "75%      178.500000\n",
       "max      301.000000"
      ]
     },
     "execution_count": 37,
     "metadata": {},
     "output_type": "execute_result"
    }
   ],
   "source": [
    "#Amphibian\n",
    "Amp_ca = merged_df2[merged_df2.category == 'Amphibian']\n",
    "print(Amp_ca.head())\n",
    "Amp_ca.observations.count()\n",
    "Amp_ca.describe()"
   ]
  },
  {
   "cell_type": "code",
   "execution_count": 38,
   "metadata": {},
   "outputs": [
    {
     "data": {
      "text/html": [
       "<div>\n",
       "<style scoped>\n",
       "    .dataframe tbody tr th:only-of-type {\n",
       "        vertical-align: middle;\n",
       "    }\n",
       "\n",
       "    .dataframe tbody tr th {\n",
       "        vertical-align: top;\n",
       "    }\n",
       "\n",
       "    .dataframe thead tr th {\n",
       "        text-align: left;\n",
       "    }\n",
       "\n",
       "    .dataframe thead tr:last-of-type th {\n",
       "        text-align: right;\n",
       "    }\n",
       "</style>\n",
       "<table border=\"1\" class=\"dataframe\">\n",
       "  <thead>\n",
       "    <tr>\n",
       "      <th></th>\n",
       "      <th colspan=\"8\" halign=\"left\">observations</th>\n",
       "    </tr>\n",
       "    <tr>\n",
       "      <th></th>\n",
       "      <th>count</th>\n",
       "      <th>mean</th>\n",
       "      <th>std</th>\n",
       "      <th>min</th>\n",
       "      <th>25%</th>\n",
       "      <th>50%</th>\n",
       "      <th>75%</th>\n",
       "      <th>max</th>\n",
       "    </tr>\n",
       "    <tr>\n",
       "      <th>park_name</th>\n",
       "      <th></th>\n",
       "      <th></th>\n",
       "      <th></th>\n",
       "      <th></th>\n",
       "      <th></th>\n",
       "      <th></th>\n",
       "      <th></th>\n",
       "      <th></th>\n",
       "    </tr>\n",
       "  </thead>\n",
       "  <tbody>\n",
       "    <tr>\n",
       "      <th>Bryce National Park</th>\n",
       "      <td>82.0</td>\n",
       "      <td>91.975610</td>\n",
       "      <td>21.522297</td>\n",
       "      <td>31.0</td>\n",
       "      <td>80.25</td>\n",
       "      <td>92.0</td>\n",
       "      <td>105.00</td>\n",
       "      <td>133.0</td>\n",
       "    </tr>\n",
       "    <tr>\n",
       "      <th>Great Smoky Mountains National Park</th>\n",
       "      <td>82.0</td>\n",
       "      <td>71.658537</td>\n",
       "      <td>21.063818</td>\n",
       "      <td>11.0</td>\n",
       "      <td>58.00</td>\n",
       "      <td>71.5</td>\n",
       "      <td>87.50</td>\n",
       "      <td>119.0</td>\n",
       "    </tr>\n",
       "    <tr>\n",
       "      <th>Yellowstone National Park</th>\n",
       "      <td>82.0</td>\n",
       "      <td>243.134146</td>\n",
       "      <td>35.187246</td>\n",
       "      <td>60.0</td>\n",
       "      <td>236.00</td>\n",
       "      <td>248.5</td>\n",
       "      <td>261.75</td>\n",
       "      <td>301.0</td>\n",
       "    </tr>\n",
       "    <tr>\n",
       "      <th>Yosemite National Park</th>\n",
       "      <td>82.0</td>\n",
       "      <td>142.841463</td>\n",
       "      <td>24.851892</td>\n",
       "      <td>42.0</td>\n",
       "      <td>129.75</td>\n",
       "      <td>146.0</td>\n",
       "      <td>158.75</td>\n",
       "      <td>187.0</td>\n",
       "    </tr>\n",
       "  </tbody>\n",
       "</table>\n",
       "</div>"
      ],
      "text/plain": [
       "                                    observations                               \\\n",
       "                                           count        mean        std   min   \n",
       "park_name                                                                       \n",
       "Bryce National Park                         82.0   91.975610  21.522297  31.0   \n",
       "Great Smoky Mountains National Park         82.0   71.658537  21.063818  11.0   \n",
       "Yellowstone National Park                   82.0  243.134146  35.187246  60.0   \n",
       "Yosemite National Park                      82.0  142.841463  24.851892  42.0   \n",
       "\n",
       "                                                                   \n",
       "                                        25%    50%     75%    max  \n",
       "park_name                                                          \n",
       "Bryce National Park                   80.25   92.0  105.00  133.0  \n",
       "Great Smoky Mountains National Park   58.00   71.5   87.50  119.0  \n",
       "Yellowstone National Park            236.00  248.5  261.75  301.0  \n",
       "Yosemite National Park               129.75  146.0  158.75  187.0  "
      ]
     },
     "execution_count": 38,
     "metadata": {},
     "output_type": "execute_result"
    }
   ],
   "source": [
    "Amp_ca.sort_values(by=['park_name']).groupby(\"park_name\").describe()"
   ]
  },
  {
   "cell_type": "code",
   "execution_count": 39,
   "metadata": {},
   "outputs": [
    {
     "data": {
      "image/png": "[encoded data removed]",
      "text/plain": [
       "<Figure size 720x576 with 1 Axes>"
      ]
     },
     "metadata": {
      "needs_background": "light"
     },
     "output_type": "display_data"
    },
    {
     "data": {
      "text/plain": [
       "<Figure size 432x288 with 0 Axes>"
      ]
     },
     "metadata": {},
     "output_type": "display_data"
    }
   ],
   "source": [
    "#The facet grid of scatter graph mapping observations for Amphibian category species as a function of park sites\n",
    "plt.figure(figsize=(10,8))\n",
    "sns.boxplot(x=\"park_name\", y=\"observations\", data=Amp_ca.sort_values(by=['park_name']))\n",
    "plt.title('Relationship between observations for Amphibian category species and park sites')\n",
    "plt.xticks(rotation=90)\n",
    "plt.savefig('Fig_obssparksites.png')\n",
    "plt.show()\n",
    "plt.clf()"
   ]
  },
  {
   "cell_type": "code",
   "execution_count": 40,
   "metadata": {},
   "outputs": [
    {
     "name": "stdout",
     "output_type": "stream",
     "text": [
      "          scientific_name                            park_name  observations  \\\n",
      "24       Spizella pusilla            Yellowstone National Park           228   \n",
      "25       Spizella pusilla               Yosemite National Park           148   \n",
      "26       Spizella pusilla                  Bryce National Park            92   \n",
      "27       Spizella pusilla  Great Smoky Mountains National Park            72   \n",
      "44  Cistothorus platensis                  Bryce National Park           114   \n",
      "\n",
      "   category   common_names conservation_status  is_protected  \n",
      "24     Bird  Field Sparrow     No intervention         False  \n",
      "25     Bird  Field Sparrow     No intervention         False  \n",
      "26     Bird  Field Sparrow     No intervention         False  \n",
      "27     Bird  Field Sparrow     No intervention         False  \n",
      "44     Bird     Sedge Wren     No intervention         False  \n"
     ]
    },
    {
     "data": {
      "text/html": [
       "<div>\n",
       "<style scoped>\n",
       "    .dataframe tbody tr th:only-of-type {\n",
       "        vertical-align: middle;\n",
       "    }\n",
       "\n",
       "    .dataframe tbody tr th {\n",
       "        vertical-align: top;\n",
       "    }\n",
       "\n",
       "    .dataframe thead th {\n",
       "        text-align: right;\n",
       "    }\n",
       "</style>\n",
       "<table border=\"1\" class=\"dataframe\">\n",
       "  <thead>\n",
       "    <tr style=\"text-align: right;\">\n",
       "      <th></th>\n",
       "      <th>observations</th>\n",
       "    </tr>\n",
       "  </thead>\n",
       "  <tbody>\n",
       "    <tr>\n",
       "      <th>count</th>\n",
       "      <td>2364.000000</td>\n",
       "    </tr>\n",
       "    <tr>\n",
       "      <th>mean</th>\n",
       "      <td>140.596870</td>\n",
       "    </tr>\n",
       "    <tr>\n",
       "      <th>std</th>\n",
       "      <td>69.349431</td>\n",
       "    </tr>\n",
       "    <tr>\n",
       "      <th>min</th>\n",
       "      <td>11.000000</td>\n",
       "    </tr>\n",
       "    <tr>\n",
       "      <th>25%</th>\n",
       "      <td>86.000000</td>\n",
       "    </tr>\n",
       "    <tr>\n",
       "      <th>50%</th>\n",
       "      <td>123.000000</td>\n",
       "    </tr>\n",
       "    <tr>\n",
       "      <th>75%</th>\n",
       "      <td>191.500000</td>\n",
       "    </tr>\n",
       "    <tr>\n",
       "      <th>max</th>\n",
       "      <td>305.000000</td>\n",
       "    </tr>\n",
       "  </tbody>\n",
       "</table>\n",
       "</div>"
      ],
      "text/plain": [
       "       observations\n",
       "count   2364.000000\n",
       "mean     140.596870\n",
       "std       69.349431\n",
       "min       11.000000\n",
       "25%       86.000000\n",
       "50%      123.000000\n",
       "75%      191.500000\n",
       "max      305.000000"
      ]
     },
     "execution_count": 40,
     "metadata": {},
     "output_type": "execute_result"
    }
   ],
   "source": [
    "#Bird\n",
    "Bird_ca = merged_df2[merged_df2.category == 'Bird']\n",
    "print(Bird_ca.head())\n",
    "Bird_ca.observations.count()\n",
    "Bird_ca.describe()"
   ]
  },
  {
   "cell_type": "code",
   "execution_count": 41,
   "metadata": {},
   "outputs": [
    {
     "data": {
      "text/html": [
       "<div>\n",
       "<style scoped>\n",
       "    .dataframe tbody tr th:only-of-type {\n",
       "        vertical-align: middle;\n",
       "    }\n",
       "\n",
       "    .dataframe tbody tr th {\n",
       "        vertical-align: top;\n",
       "    }\n",
       "\n",
       "    .dataframe thead tr th {\n",
       "        text-align: left;\n",
       "    }\n",
       "\n",
       "    .dataframe thead tr:last-of-type th {\n",
       "        text-align: right;\n",
       "    }\n",
       "</style>\n",
       "<table border=\"1\" class=\"dataframe\">\n",
       "  <thead>\n",
       "    <tr>\n",
       "      <th></th>\n",
       "      <th colspan=\"8\" halign=\"left\">observations</th>\n",
       "    </tr>\n",
       "    <tr>\n",
       "      <th></th>\n",
       "      <th>count</th>\n",
       "      <th>mean</th>\n",
       "      <th>std</th>\n",
       "      <th>min</th>\n",
       "      <th>25%</th>\n",
       "      <th>50%</th>\n",
       "      <th>75%</th>\n",
       "      <th>max</th>\n",
       "    </tr>\n",
       "    <tr>\n",
       "      <th>park_name</th>\n",
       "      <th></th>\n",
       "      <th></th>\n",
       "      <th></th>\n",
       "      <th></th>\n",
       "      <th></th>\n",
       "      <th></th>\n",
       "      <th></th>\n",
       "      <th></th>\n",
       "    </tr>\n",
       "  </thead>\n",
       "  <tbody>\n",
       "    <tr>\n",
       "      <th>Bryce National Park</th>\n",
       "      <td>591.0</td>\n",
       "      <td>99.137056</td>\n",
       "      <td>20.444381</td>\n",
       "      <td>20.0</td>\n",
       "      <td>85.5</td>\n",
       "      <td>99.0</td>\n",
       "      <td>112.0</td>\n",
       "      <td>164.0</td>\n",
       "    </tr>\n",
       "    <tr>\n",
       "      <th>Great Smoky Mountains National Park</th>\n",
       "      <td>591.0</td>\n",
       "      <td>72.536379</td>\n",
       "      <td>21.371887</td>\n",
       "      <td>11.0</td>\n",
       "      <td>58.0</td>\n",
       "      <td>73.0</td>\n",
       "      <td>86.0</td>\n",
       "      <td>139.0</td>\n",
       "    </tr>\n",
       "    <tr>\n",
       "      <th>Yellowstone National Park</th>\n",
       "      <td>591.0</td>\n",
       "      <td>244.162437</td>\n",
       "      <td>27.263199</td>\n",
       "      <td>57.0</td>\n",
       "      <td>230.0</td>\n",
       "      <td>245.0</td>\n",
       "      <td>260.0</td>\n",
       "      <td>305.0</td>\n",
       "    </tr>\n",
       "    <tr>\n",
       "      <th>Yosemite National Park</th>\n",
       "      <td>591.0</td>\n",
       "      <td>146.551607</td>\n",
       "      <td>22.413834</td>\n",
       "      <td>37.0</td>\n",
       "      <td>133.0</td>\n",
       "      <td>147.0</td>\n",
       "      <td>161.0</td>\n",
       "      <td>207.0</td>\n",
       "    </tr>\n",
       "  </tbody>\n",
       "</table>\n",
       "</div>"
      ],
      "text/plain": [
       "                                    observations                               \\\n",
       "                                           count        mean        std   min   \n",
       "park_name                                                                       \n",
       "Bryce National Park                        591.0   99.137056  20.444381  20.0   \n",
       "Great Smoky Mountains National Park        591.0   72.536379  21.371887  11.0   \n",
       "Yellowstone National Park                  591.0  244.162437  27.263199  57.0   \n",
       "Yosemite National Park                     591.0  146.551607  22.413834  37.0   \n",
       "\n",
       "                                                                 \n",
       "                                       25%    50%    75%    max  \n",
       "park_name                                                        \n",
       "Bryce National Park                   85.5   99.0  112.0  164.0  \n",
       "Great Smoky Mountains National Park   58.0   73.0   86.0  139.0  \n",
       "Yellowstone National Park            230.0  245.0  260.0  305.0  \n",
       "Yosemite National Park               133.0  147.0  161.0  207.0  "
      ]
     },
     "execution_count": 41,
     "metadata": {},
     "output_type": "execute_result"
    }
   ],
   "source": [
    "Bird_ca.sort_values(by=['park_name']).groupby(\"park_name\").describe()"
   ]
  },
  {
   "cell_type": "code",
   "execution_count": 42,
   "metadata": {},
   "outputs": [
    {
     "data": {
      "image/png": "[encoded data removed]",
      "text/plain": [
       "<Figure size 720x576 with 1 Axes>"
      ]
     },
     "metadata": {
      "needs_background": "light"
     },
     "output_type": "display_data"
    },
    {
     "data": {
      "text/plain": [
       "<Figure size 432x288 with 0 Axes>"
      ]
     },
     "metadata": {},
     "output_type": "display_data"
    }
   ],
   "source": [
    "#The facet grid of scatter graph mapping observations for Birds category species as a function of park sites\n",
    "plt.figure(figsize=(10,8))\n",
    "sns.boxplot(x=\"park_name\", y=\"observations\", data=Bird_ca.sort_values(by=['park_name']))\n",
    "plt.title('Relationship between observations for Bird category species and park sites')\n",
    "plt.xticks(rotation=90)\n",
    "plt.savefig('Fig_birdsparksites.png')\n",
    "plt.show()\n",
    "plt.clf()"
   ]
  },
  {
   "cell_type": "code",
   "execution_count": 43,
   "metadata": {},
   "outputs": [
    {
     "name": "stdout",
     "output_type": "stream",
     "text": [
      "           scientific_name                            park_name  observations  \\\n",
      "452  Hypentelium nigricans  Great Smoky Mountains National Park            54   \n",
      "453  Hypentelium nigricans                  Bryce National Park           110   \n",
      "454  Hypentelium nigricans            Yellowstone National Park           250   \n",
      "455  Hypentelium nigricans               Yosemite National Park           158   \n",
      "856    Oncorhynchus mykiss               Yosemite National Park           118   \n",
      "\n",
      "    category         common_names conservation_status  is_protected  \n",
      "452     Fish  Northern Hog Sucker     No intervention         False  \n",
      "453     Fish  Northern Hog Sucker     No intervention         False  \n",
      "454     Fish  Northern Hog Sucker     No intervention         False  \n",
      "455     Fish  Northern Hog Sucker     No intervention         False  \n",
      "856     Fish        Rainbow Trout     No intervention         False  \n"
     ]
    },
    {
     "data": {
      "text/html": [
       "<div>\n",
       "<style scoped>\n",
       "    .dataframe tbody tr th:only-of-type {\n",
       "        vertical-align: middle;\n",
       "    }\n",
       "\n",
       "    .dataframe tbody tr th {\n",
       "        vertical-align: top;\n",
       "    }\n",
       "\n",
       "    .dataframe thead th {\n",
       "        text-align: right;\n",
       "    }\n",
       "</style>\n",
       "<table border=\"1\" class=\"dataframe\">\n",
       "  <thead>\n",
       "    <tr style=\"text-align: right;\">\n",
       "      <th></th>\n",
       "      <th>observations</th>\n",
       "    </tr>\n",
       "  </thead>\n",
       "  <tbody>\n",
       "    <tr>\n",
       "      <th>count</th>\n",
       "      <td>524.000000</td>\n",
       "    </tr>\n",
       "    <tr>\n",
       "      <th>mean</th>\n",
       "      <td>139.124046</td>\n",
       "    </tr>\n",
       "    <tr>\n",
       "      <th>std</th>\n",
       "      <td>71.152449</td>\n",
       "    </tr>\n",
       "    <tr>\n",
       "      <th>min</th>\n",
       "      <td>18.000000</td>\n",
       "    </tr>\n",
       "    <tr>\n",
       "      <th>25%</th>\n",
       "      <td>84.000000</td>\n",
       "    </tr>\n",
       "    <tr>\n",
       "      <th>50%</th>\n",
       "      <td>119.000000</td>\n",
       "    </tr>\n",
       "    <tr>\n",
       "      <th>75%</th>\n",
       "      <td>185.250000</td>\n",
       "    </tr>\n",
       "    <tr>\n",
       "      <th>max</th>\n",
       "      <td>300.000000</td>\n",
       "    </tr>\n",
       "  </tbody>\n",
       "</table>\n",
       "</div>"
      ],
      "text/plain": [
       "       observations\n",
       "count    524.000000\n",
       "mean     139.124046\n",
       "std       71.152449\n",
       "min       18.000000\n",
       "25%       84.000000\n",
       "50%      119.000000\n",
       "75%      185.250000\n",
       "max      300.000000"
      ]
     },
     "execution_count": 43,
     "metadata": {},
     "output_type": "execute_result"
    }
   ],
   "source": [
    "#Fish\n",
    "Fish_ca = merged_df2[merged_df2.category == 'Fish']\n",
    "print(Fish_ca.head())\n",
    "Fish_ca.observations.count()\n",
    "Fish_ca.describe()"
   ]
  },
  {
   "cell_type": "code",
   "execution_count": 44,
   "metadata": {},
   "outputs": [
    {
     "data": {
      "text/html": [
       "<div>\n",
       "<style scoped>\n",
       "    .dataframe tbody tr th:only-of-type {\n",
       "        vertical-align: middle;\n",
       "    }\n",
       "\n",
       "    .dataframe tbody tr th {\n",
       "        vertical-align: top;\n",
       "    }\n",
       "\n",
       "    .dataframe thead tr th {\n",
       "        text-align: left;\n",
       "    }\n",
       "\n",
       "    .dataframe thead tr:last-of-type th {\n",
       "        text-align: right;\n",
       "    }\n",
       "</style>\n",
       "<table border=\"1\" class=\"dataframe\">\n",
       "  <thead>\n",
       "    <tr>\n",
       "      <th></th>\n",
       "      <th colspan=\"8\" halign=\"left\">observations</th>\n",
       "    </tr>\n",
       "    <tr>\n",
       "      <th></th>\n",
       "      <th>count</th>\n",
       "      <th>mean</th>\n",
       "      <th>std</th>\n",
       "      <th>min</th>\n",
       "      <th>25%</th>\n",
       "      <th>50%</th>\n",
       "      <th>75%</th>\n",
       "      <th>max</th>\n",
       "    </tr>\n",
       "    <tr>\n",
       "      <th>park_name</th>\n",
       "      <th></th>\n",
       "      <th></th>\n",
       "      <th></th>\n",
       "      <th></th>\n",
       "      <th></th>\n",
       "      <th></th>\n",
       "      <th></th>\n",
       "      <th></th>\n",
       "    </tr>\n",
       "  </thead>\n",
       "  <tbody>\n",
       "    <tr>\n",
       "      <th>Bryce National Park</th>\n",
       "      <td>131.0</td>\n",
       "      <td>97.885496</td>\n",
       "      <td>24.186977</td>\n",
       "      <td>22.0</td>\n",
       "      <td>86.0</td>\n",
       "      <td>99.0</td>\n",
       "      <td>112.0</td>\n",
       "      <td>154.0</td>\n",
       "    </tr>\n",
       "    <tr>\n",
       "      <th>Great Smoky Mountains National Park</th>\n",
       "      <td>131.0</td>\n",
       "      <td>72.381679</td>\n",
       "      <td>21.900284</td>\n",
       "      <td>18.0</td>\n",
       "      <td>60.0</td>\n",
       "      <td>72.0</td>\n",
       "      <td>90.0</td>\n",
       "      <td>133.0</td>\n",
       "    </tr>\n",
       "    <tr>\n",
       "      <th>Yellowstone National Park</th>\n",
       "      <td>131.0</td>\n",
       "      <td>240.145038</td>\n",
       "      <td>41.825852</td>\n",
       "      <td>65.0</td>\n",
       "      <td>232.0</td>\n",
       "      <td>250.0</td>\n",
       "      <td>262.5</td>\n",
       "      <td>300.0</td>\n",
       "    </tr>\n",
       "    <tr>\n",
       "      <th>Yosemite National Park</th>\n",
       "      <td>131.0</td>\n",
       "      <td>146.083969</td>\n",
       "      <td>31.912630</td>\n",
       "      <td>31.0</td>\n",
       "      <td>135.0</td>\n",
       "      <td>151.0</td>\n",
       "      <td>165.0</td>\n",
       "      <td>203.0</td>\n",
       "    </tr>\n",
       "  </tbody>\n",
       "</table>\n",
       "</div>"
      ],
      "text/plain": [
       "                                    observations                               \\\n",
       "                                           count        mean        std   min   \n",
       "park_name                                                                       \n",
       "Bryce National Park                        131.0   97.885496  24.186977  22.0   \n",
       "Great Smoky Mountains National Park        131.0   72.381679  21.900284  18.0   \n",
       "Yellowstone National Park                  131.0  240.145038  41.825852  65.0   \n",
       "Yosemite National Park                     131.0  146.083969  31.912630  31.0   \n",
       "\n",
       "                                                                 \n",
       "                                       25%    50%    75%    max  \n",
       "park_name                                                        \n",
       "Bryce National Park                   86.0   99.0  112.0  154.0  \n",
       "Great Smoky Mountains National Park   60.0   72.0   90.0  133.0  \n",
       "Yellowstone National Park            232.0  250.0  262.5  300.0  \n",
       "Yosemite National Park               135.0  151.0  165.0  203.0  "
      ]
     },
     "execution_count": 44,
     "metadata": {},
     "output_type": "execute_result"
    }
   ],
   "source": [
    "Fish_ca.sort_values(by=['park_name']).groupby(\"park_name\").describe()"
   ]
  },
  {
   "cell_type": "code",
   "execution_count": 45,
   "metadata": {},
   "outputs": [
    {
     "data": {
      "image/png": "[encoded data removed]",
      "text/plain": [
       "<Figure size 720x576 with 1 Axes>"
      ]
     },
     "metadata": {
      "needs_background": "light"
     },
     "output_type": "display_data"
    },
    {
     "data": {
      "text/plain": [
       "<Figure size 432x288 with 0 Axes>"
      ]
     },
     "metadata": {},
     "output_type": "display_data"
    }
   ],
   "source": [
    "#The facet grid of scatter graph mapping observations for Fish category species as a function of park sites\n",
    "plt.figure(figsize=(10,8))\n",
    "sns.boxplot(x=\"park_name\", y=\"observations\", data=Fish_ca.sort_values(by=['park_name']))\n",
    "plt.title('Relationship between observations for Fish category species and park sites')\n",
    "plt.xticks(rotation=90)\n",
    "plt.savefig('Fig_obsFishsparksites.png')\n",
    "plt.show()\n",
    "plt.clf()"
   ]
  },
  {
   "cell_type": "code",
   "execution_count": 46,
   "metadata": {},
   "outputs": [
    {
     "name": "stdout",
     "output_type": "stream",
     "text": [
      "        scientific_name                            park_name  observations  \\\n",
      "4        Neovison vison  Great Smoky Mountains National Park            77   \n",
      "5        Neovison vison            Yellowstone National Park           218   \n",
      "6        Neovison vison                  Bryce National Park            91   \n",
      "7        Neovison vison               Yosemite National Park           200   \n",
      "340  Blarina brevicauda                  Bryce National Park            77   \n",
      "\n",
      "    category                                       common_names  \\\n",
      "4     Mammal                                      American Mink   \n",
      "5     Mammal                                      American Mink   \n",
      "6     Mammal                                      American Mink   \n",
      "7     Mammal                                      American Mink   \n",
      "340   Mammal  Northern Short Tailed Shrew, Northern Short-Ta...   \n",
      "\n",
      "    conservation_status  is_protected  \n",
      "4       No intervention         False  \n",
      "5       No intervention         False  \n",
      "6       No intervention         False  \n",
      "7       No intervention         False  \n",
      "340     No intervention         False  \n"
     ]
    },
    {
     "data": {
      "text/html": [
       "<div>\n",
       "<style scoped>\n",
       "    .dataframe tbody tr th:only-of-type {\n",
       "        vertical-align: middle;\n",
       "    }\n",
       "\n",
       "    .dataframe tbody tr th {\n",
       "        vertical-align: top;\n",
       "    }\n",
       "\n",
       "    .dataframe thead th {\n",
       "        text-align: right;\n",
       "    }\n",
       "</style>\n",
       "<table border=\"1\" class=\"dataframe\">\n",
       "  <thead>\n",
       "    <tr style=\"text-align: right;\">\n",
       "      <th></th>\n",
       "      <th>observations</th>\n",
       "    </tr>\n",
       "  </thead>\n",
       "  <tbody>\n",
       "    <tr>\n",
       "      <th>count</th>\n",
       "      <td>1200.000000</td>\n",
       "    </tr>\n",
       "    <tr>\n",
       "      <th>mean</th>\n",
       "      <td>135.933333</td>\n",
       "    </tr>\n",
       "    <tr>\n",
       "      <th>std</th>\n",
       "      <td>70.119597</td>\n",
       "    </tr>\n",
       "    <tr>\n",
       "      <th>min</th>\n",
       "      <td>13.000000</td>\n",
       "    </tr>\n",
       "    <tr>\n",
       "      <th>25%</th>\n",
       "      <td>81.000000</td>\n",
       "    </tr>\n",
       "    <tr>\n",
       "      <th>50%</th>\n",
       "      <td>121.000000</td>\n",
       "    </tr>\n",
       "    <tr>\n",
       "      <th>75%</th>\n",
       "      <td>185.250000</td>\n",
       "    </tr>\n",
       "    <tr>\n",
       "      <th>max</th>\n",
       "      <td>296.000000</td>\n",
       "    </tr>\n",
       "  </tbody>\n",
       "</table>\n",
       "</div>"
      ],
      "text/plain": [
       "       observations\n",
       "count   1200.000000\n",
       "mean     135.933333\n",
       "std       70.119597\n",
       "min       13.000000\n",
       "25%       81.000000\n",
       "50%      121.000000\n",
       "75%      185.250000\n",
       "max      296.000000"
      ]
     },
     "execution_count": 46,
     "metadata": {},
     "output_type": "execute_result"
    }
   ],
   "source": [
    "#Mammal\n",
    "Mammal_ca = merged_df2[merged_df2.category == 'Mammal']\n",
    "print(Mammal_ca.head())\n",
    "Mammal_ca.observations.count()\n",
    "Mammal_ca.describe()"
   ]
  },
  {
   "cell_type": "code",
   "execution_count": 47,
   "metadata": {},
   "outputs": [
    {
     "data": {
      "text/html": [
       "<div>\n",
       "<style scoped>\n",
       "    .dataframe tbody tr th:only-of-type {\n",
       "        vertical-align: middle;\n",
       "    }\n",
       "\n",
       "    .dataframe tbody tr th {\n",
       "        vertical-align: top;\n",
       "    }\n",
       "\n",
       "    .dataframe thead tr th {\n",
       "        text-align: left;\n",
       "    }\n",
       "\n",
       "    .dataframe thead tr:last-of-type th {\n",
       "        text-align: right;\n",
       "    }\n",
       "</style>\n",
       "<table border=\"1\" class=\"dataframe\">\n",
       "  <thead>\n",
       "    <tr>\n",
       "      <th></th>\n",
       "      <th colspan=\"8\" halign=\"left\">observations</th>\n",
       "    </tr>\n",
       "    <tr>\n",
       "      <th></th>\n",
       "      <th>count</th>\n",
       "      <th>mean</th>\n",
       "      <th>std</th>\n",
       "      <th>min</th>\n",
       "      <th>25%</th>\n",
       "      <th>50%</th>\n",
       "      <th>75%</th>\n",
       "      <th>max</th>\n",
       "    </tr>\n",
       "    <tr>\n",
       "      <th>park_name</th>\n",
       "      <th></th>\n",
       "      <th></th>\n",
       "      <th></th>\n",
       "      <th></th>\n",
       "      <th></th>\n",
       "      <th></th>\n",
       "      <th></th>\n",
       "      <th></th>\n",
       "    </tr>\n",
       "  </thead>\n",
       "  <tbody>\n",
       "    <tr>\n",
       "      <th>Bryce National Park</th>\n",
       "      <td>300.0</td>\n",
       "      <td>96.100000</td>\n",
       "      <td>25.378671</td>\n",
       "      <td>22.0</td>\n",
       "      <td>80.00</td>\n",
       "      <td>98.5</td>\n",
       "      <td>114.0</td>\n",
       "      <td>167.0</td>\n",
       "    </tr>\n",
       "    <tr>\n",
       "      <th>Great Smoky Mountains National Park</th>\n",
       "      <td>300.0</td>\n",
       "      <td>70.186667</td>\n",
       "      <td>22.848018</td>\n",
       "      <td>13.0</td>\n",
       "      <td>57.00</td>\n",
       "      <td>71.0</td>\n",
       "      <td>85.0</td>\n",
       "      <td>127.0</td>\n",
       "    </tr>\n",
       "    <tr>\n",
       "      <th>Yellowstone National Park</th>\n",
       "      <td>300.0</td>\n",
       "      <td>235.670000</td>\n",
       "      <td>41.567543</td>\n",
       "      <td>60.0</td>\n",
       "      <td>225.75</td>\n",
       "      <td>240.5</td>\n",
       "      <td>259.0</td>\n",
       "      <td>296.0</td>\n",
       "    </tr>\n",
       "    <tr>\n",
       "      <th>Yosemite National Park</th>\n",
       "      <td>300.0</td>\n",
       "      <td>141.776667</td>\n",
       "      <td>29.637500</td>\n",
       "      <td>34.0</td>\n",
       "      <td>126.00</td>\n",
       "      <td>145.0</td>\n",
       "      <td>158.0</td>\n",
       "      <td>203.0</td>\n",
       "    </tr>\n",
       "  </tbody>\n",
       "</table>\n",
       "</div>"
      ],
      "text/plain": [
       "                                    observations                               \\\n",
       "                                           count        mean        std   min   \n",
       "park_name                                                                       \n",
       "Bryce National Park                        300.0   96.100000  25.378671  22.0   \n",
       "Great Smoky Mountains National Park        300.0   70.186667  22.848018  13.0   \n",
       "Yellowstone National Park                  300.0  235.670000  41.567543  60.0   \n",
       "Yosemite National Park                     300.0  141.776667  29.637500  34.0   \n",
       "\n",
       "                                                                  \n",
       "                                        25%    50%    75%    max  \n",
       "park_name                                                         \n",
       "Bryce National Park                   80.00   98.5  114.0  167.0  \n",
       "Great Smoky Mountains National Park   57.00   71.0   85.0  127.0  \n",
       "Yellowstone National Park            225.75  240.5  259.0  296.0  \n",
       "Yosemite National Park               126.00  145.0  158.0  203.0  "
      ]
     },
     "execution_count": 47,
     "metadata": {},
     "output_type": "execute_result"
    }
   ],
   "source": [
    "Mammal_ca.sort_values(by=['park_name']).groupby(\"park_name\").describe()"
   ]
  },
  {
   "cell_type": "code",
   "execution_count": 48,
   "metadata": {},
   "outputs": [
    {
     "data": {
      "image/png": "[encoded data removed]",
      "text/plain": [
       "<Figure size 720x576 with 1 Axes>"
      ]
     },
     "metadata": {
      "needs_background": "light"
     },
     "output_type": "display_data"
    },
    {
     "data": {
      "text/plain": [
       "<Figure size 432x288 with 0 Axes>"
      ]
     },
     "metadata": {},
     "output_type": "display_data"
    }
   ],
   "source": [
    "#The facet grid of scatter graph mapping observations for Mammal category species as a function of park sites\n",
    "plt.figure(figsize=(10,8))\n",
    "sns.boxplot(x=\"park_name\", y=\"observations\", data=Mammal_ca.sort_values(by=['park_name']))\n",
    "plt.title('Relationship between observations for Mammal category species and park sites')\n",
    "plt.xticks(rotation=90)\n",
    "plt.savefig('Fig_obsMammalparksites.png')\n",
    "plt.show()\n",
    "plt.clf()"
   ]
  },
  {
   "cell_type": "code",
   "execution_count": 49,
   "metadata": {},
   "outputs": [
    {
     "name": "stdout",
     "output_type": "stream",
     "text": [
      "               scientific_name                            park_name  \\\n",
      "36  Diphyscium cumberlandianum            Yellowstone National Park   \n",
      "37  Diphyscium cumberlandianum               Yosemite National Park   \n",
      "38  Diphyscium cumberlandianum  Great Smoky Mountains National Park   \n",
      "39  Diphyscium cumberlandianum                  Bryce National Park   \n",
      "56           Fabronia ciliaris  Great Smoky Mountains National Park   \n",
      "\n",
      "    observations           category                common_names  \\\n",
      "36           250  Nonvascular Plant  Cumberland Diphyscium Moss   \n",
      "37           123  Nonvascular Plant  Cumberland Diphyscium Moss   \n",
      "38            51  Nonvascular Plant  Cumberland Diphyscium Moss   \n",
      "39            93  Nonvascular Plant  Cumberland Diphyscium Moss   \n",
      "56            72  Nonvascular Plant               Fabronia Moss   \n",
      "\n",
      "   conservation_status  is_protected  \n",
      "36     No intervention         False  \n",
      "37     No intervention         False  \n",
      "38     No intervention         False  \n",
      "39     No intervention         False  \n",
      "56     No intervention         False  \n"
     ]
    },
    {
     "data": {
      "text/html": [
       "<div>\n",
       "<style scoped>\n",
       "    .dataframe tbody tr th:only-of-type {\n",
       "        vertical-align: middle;\n",
       "    }\n",
       "\n",
       "    .dataframe tbody tr th {\n",
       "        vertical-align: top;\n",
       "    }\n",
       "\n",
       "    .dataframe thead th {\n",
       "        text-align: right;\n",
       "    }\n",
       "</style>\n",
       "<table border=\"1\" class=\"dataframe\">\n",
       "  <thead>\n",
       "    <tr style=\"text-align: right;\">\n",
       "      <th></th>\n",
       "      <th>observations</th>\n",
       "    </tr>\n",
       "  </thead>\n",
       "  <tbody>\n",
       "    <tr>\n",
       "      <th>count</th>\n",
       "      <td>1332.000000</td>\n",
       "    </tr>\n",
       "    <tr>\n",
       "      <th>mean</th>\n",
       "      <td>143.132883</td>\n",
       "    </tr>\n",
       "    <tr>\n",
       "      <th>std</th>\n",
       "      <td>69.835997</td>\n",
       "    </tr>\n",
       "    <tr>\n",
       "      <th>min</th>\n",
       "      <td>19.000000</td>\n",
       "    </tr>\n",
       "    <tr>\n",
       "      <th>25%</th>\n",
       "      <td>87.000000</td>\n",
       "    </tr>\n",
       "    <tr>\n",
       "      <th>50%</th>\n",
       "      <td>126.000000</td>\n",
       "    </tr>\n",
       "    <tr>\n",
       "      <th>75%</th>\n",
       "      <td>201.000000</td>\n",
       "    </tr>\n",
       "    <tr>\n",
       "      <th>max</th>\n",
       "      <td>307.000000</td>\n",
       "    </tr>\n",
       "  </tbody>\n",
       "</table>\n",
       "</div>"
      ],
      "text/plain": [
       "       observations\n",
       "count   1332.000000\n",
       "mean     143.132883\n",
       "std       69.835997\n",
       "min       19.000000\n",
       "25%       87.000000\n",
       "50%      126.000000\n",
       "75%      201.000000\n",
       "max      307.000000"
      ]
     },
     "execution_count": 49,
     "metadata": {},
     "output_type": "execute_result"
    }
   ],
   "source": [
    "#Non vascular plant\n",
    "NonvascularPlant_ca = merged_df2[merged_df2.category == 'Nonvascular Plant']\n",
    "print(NonvascularPlant_ca.head())\n",
    "NonvascularPlant_ca.observations.count()\n",
    "NonvascularPlant_ca.describe()"
   ]
  },
  {
   "cell_type": "code",
   "execution_count": 50,
   "metadata": {},
   "outputs": [
    {
     "data": {
      "text/html": [
       "<div>\n",
       "<style scoped>\n",
       "    .dataframe tbody tr th:only-of-type {\n",
       "        vertical-align: middle;\n",
       "    }\n",
       "\n",
       "    .dataframe tbody tr th {\n",
       "        vertical-align: top;\n",
       "    }\n",
       "\n",
       "    .dataframe thead tr th {\n",
       "        text-align: left;\n",
       "    }\n",
       "\n",
       "    .dataframe thead tr:last-of-type th {\n",
       "        text-align: right;\n",
       "    }\n",
       "</style>\n",
       "<table border=\"1\" class=\"dataframe\">\n",
       "  <thead>\n",
       "    <tr>\n",
       "      <th></th>\n",
       "      <th colspan=\"8\" halign=\"left\">observations</th>\n",
       "    </tr>\n",
       "    <tr>\n",
       "      <th></th>\n",
       "      <th>count</th>\n",
       "      <th>mean</th>\n",
       "      <th>std</th>\n",
       "      <th>min</th>\n",
       "      <th>25%</th>\n",
       "      <th>50%</th>\n",
       "      <th>75%</th>\n",
       "      <th>max</th>\n",
       "    </tr>\n",
       "    <tr>\n",
       "      <th>park_name</th>\n",
       "      <th></th>\n",
       "      <th></th>\n",
       "      <th></th>\n",
       "      <th></th>\n",
       "      <th></th>\n",
       "      <th></th>\n",
       "      <th></th>\n",
       "      <th></th>\n",
       "    </tr>\n",
       "  </thead>\n",
       "  <tbody>\n",
       "    <tr>\n",
       "      <th>Bryce National Park</th>\n",
       "      <td>333.0</td>\n",
       "      <td>99.075075</td>\n",
       "      <td>20.391730</td>\n",
       "      <td>39.0</td>\n",
       "      <td>87.0</td>\n",
       "      <td>99.0</td>\n",
       "      <td>112.0</td>\n",
       "      <td>156.0</td>\n",
       "    </tr>\n",
       "    <tr>\n",
       "      <th>Great Smoky Mountains National Park</th>\n",
       "      <td>333.0</td>\n",
       "      <td>74.645646</td>\n",
       "      <td>19.583632</td>\n",
       "      <td>19.0</td>\n",
       "      <td>62.0</td>\n",
       "      <td>73.0</td>\n",
       "      <td>88.0</td>\n",
       "      <td>126.0</td>\n",
       "    </tr>\n",
       "    <tr>\n",
       "      <th>Yellowstone National Park</th>\n",
       "      <td>333.0</td>\n",
       "      <td>249.312312</td>\n",
       "      <td>19.862443</td>\n",
       "      <td>199.0</td>\n",
       "      <td>235.0</td>\n",
       "      <td>248.0</td>\n",
       "      <td>264.0</td>\n",
       "      <td>307.0</td>\n",
       "    </tr>\n",
       "    <tr>\n",
       "      <th>Yosemite National Park</th>\n",
       "      <td>333.0</td>\n",
       "      <td>149.498498</td>\n",
       "      <td>18.927195</td>\n",
       "      <td>100.0</td>\n",
       "      <td>137.0</td>\n",
       "      <td>149.0</td>\n",
       "      <td>163.0</td>\n",
       "      <td>210.0</td>\n",
       "    </tr>\n",
       "  </tbody>\n",
       "</table>\n",
       "</div>"
      ],
      "text/plain": [
       "                                    observations                         \\\n",
       "                                           count        mean        std   \n",
       "park_name                                                                 \n",
       "Bryce National Park                        333.0   99.075075  20.391730   \n",
       "Great Smoky Mountains National Park        333.0   74.645646  19.583632   \n",
       "Yellowstone National Park                  333.0  249.312312  19.862443   \n",
       "Yosemite National Park                     333.0  149.498498  18.927195   \n",
       "\n",
       "                                                                        \n",
       "                                       min    25%    50%    75%    max  \n",
       "park_name                                                               \n",
       "Bryce National Park                   39.0   87.0   99.0  112.0  156.0  \n",
       "Great Smoky Mountains National Park   19.0   62.0   73.0   88.0  126.0  \n",
       "Yellowstone National Park            199.0  235.0  248.0  264.0  307.0  \n",
       "Yosemite National Park               100.0  137.0  149.0  163.0  210.0  "
      ]
     },
     "execution_count": 50,
     "metadata": {},
     "output_type": "execute_result"
    }
   ],
   "source": [
    "NonvascularPlant_ca.sort_values(by=['park_name']).groupby(\"park_name\").describe()"
   ]
  },
  {
   "cell_type": "code",
   "execution_count": 51,
   "metadata": {},
   "outputs": [
    {
     "data": {
      "image/png": "[encoded data removed]",
      "text/plain": [
       "<Figure size 720x576 with 1 Axes>"
      ]
     },
     "metadata": {
      "needs_background": "light"
     },
     "output_type": "display_data"
    },
    {
     "data": {
      "text/plain": [
       "<Figure size 432x288 with 0 Axes>"
      ]
     },
     "metadata": {},
     "output_type": "display_data"
    }
   ],
   "source": [
    "#The facet grid of scatter graph mapping observations for NonvascularPlant category species as a function of park sites\n",
    "plt.figure(figsize=(10,8))\n",
    "sns.boxplot(x=\"park_name\", y=\"observations\", data=NonvascularPlant_ca.sort_values(by=['park_name']))\n",
    "plt.title('Relationship between observations for NonvascularPlant category species and park sites')\n",
    "plt.xticks(rotation=90)\n",
    "plt.savefig('Fig_obsNVPparksites.png')\n",
    "plt.show()\n",
    "plt.clf()"
   ]
  },
  {
   "cell_type": "code",
   "execution_count": 52,
   "metadata": {},
   "outputs": [
    {
     "name": "stdout",
     "output_type": "stream",
     "text": [
      "                   scientific_name                            park_name  \\\n",
      "404   Thamnophis sirtalis sirtalis  Great Smoky Mountains National Park   \n",
      "405   Thamnophis sirtalis sirtalis            Yellowstone National Park   \n",
      "406   Thamnophis sirtalis sirtalis               Yosemite National Park   \n",
      "407   Thamnophis sirtalis sirtalis                  Bryce National Park   \n",
      "1136      Crotalus viridis viridis  Great Smoky Mountains National Park   \n",
      "\n",
      "      observations category         common_names conservation_status  \\\n",
      "404             63  Reptile  Common Garter Snake     No intervention   \n",
      "405            260  Reptile  Common Garter Snake     No intervention   \n",
      "406            151  Reptile  Common Garter Snake     No intervention   \n",
      "407            108  Reptile  Common Garter Snake     No intervention   \n",
      "1136            55  Reptile  Prairie Rattlesnake     No intervention   \n",
      "\n",
      "      is_protected  \n",
      "404          False  \n",
      "405          False  \n",
      "406          False  \n",
      "407          False  \n",
      "1136         False  \n"
     ]
    },
    {
     "data": {
      "text/html": [
       "<div>\n",
       "<style scoped>\n",
       "    .dataframe tbody tr th:only-of-type {\n",
       "        vertical-align: middle;\n",
       "    }\n",
       "\n",
       "    .dataframe tbody tr th {\n",
       "        vertical-align: top;\n",
       "    }\n",
       "\n",
       "    .dataframe thead th {\n",
       "        text-align: right;\n",
       "    }\n",
       "</style>\n",
       "<table border=\"1\" class=\"dataframe\">\n",
       "  <thead>\n",
       "    <tr style=\"text-align: right;\">\n",
       "      <th></th>\n",
       "      <th>observations</th>\n",
       "    </tr>\n",
       "  </thead>\n",
       "  <tbody>\n",
       "    <tr>\n",
       "      <th>count</th>\n",
       "      <td>324.000000</td>\n",
       "    </tr>\n",
       "    <tr>\n",
       "      <th>mean</th>\n",
       "      <td>141.425926</td>\n",
       "    </tr>\n",
       "    <tr>\n",
       "      <th>std</th>\n",
       "      <td>69.716570</td>\n",
       "    </tr>\n",
       "    <tr>\n",
       "      <th>min</th>\n",
       "      <td>18.000000</td>\n",
       "    </tr>\n",
       "    <tr>\n",
       "      <th>25%</th>\n",
       "      <td>85.000000</td>\n",
       "    </tr>\n",
       "    <tr>\n",
       "      <th>50%</th>\n",
       "      <td>121.500000</td>\n",
       "    </tr>\n",
       "    <tr>\n",
       "      <th>75%</th>\n",
       "      <td>194.250000</td>\n",
       "    </tr>\n",
       "    <tr>\n",
       "      <th>max</th>\n",
       "      <td>307.000000</td>\n",
       "    </tr>\n",
       "  </tbody>\n",
       "</table>\n",
       "</div>"
      ],
      "text/plain": [
       "       observations\n",
       "count    324.000000\n",
       "mean     141.425926\n",
       "std       69.716570\n",
       "min       18.000000\n",
       "25%       85.000000\n",
       "50%      121.500000\n",
       "75%      194.250000\n",
       "max      307.000000"
      ]
     },
     "execution_count": 52,
     "metadata": {},
     "output_type": "execute_result"
    }
   ],
   "source": [
    "#Reptile \n",
    "Reptile_ca = merged_df2[merged_df2.category == 'Reptile']\n",
    "print(Reptile_ca.head())\n",
    "Reptile_ca.observations.count()\n",
    "Reptile_ca.describe()"
   ]
  },
  {
   "cell_type": "code",
   "execution_count": 53,
   "metadata": {},
   "outputs": [
    {
     "data": {
      "text/html": [
       "<div>\n",
       "<style scoped>\n",
       "    .dataframe tbody tr th:only-of-type {\n",
       "        vertical-align: middle;\n",
       "    }\n",
       "\n",
       "    .dataframe tbody tr th {\n",
       "        vertical-align: top;\n",
       "    }\n",
       "\n",
       "    .dataframe thead tr th {\n",
       "        text-align: left;\n",
       "    }\n",
       "\n",
       "    .dataframe thead tr:last-of-type th {\n",
       "        text-align: right;\n",
       "    }\n",
       "</style>\n",
       "<table border=\"1\" class=\"dataframe\">\n",
       "  <thead>\n",
       "    <tr>\n",
       "      <th></th>\n",
       "      <th colspan=\"8\" halign=\"left\">observations</th>\n",
       "    </tr>\n",
       "    <tr>\n",
       "      <th></th>\n",
       "      <th>count</th>\n",
       "      <th>mean</th>\n",
       "      <th>std</th>\n",
       "      <th>min</th>\n",
       "      <th>25%</th>\n",
       "      <th>50%</th>\n",
       "      <th>75%</th>\n",
       "      <th>max</th>\n",
       "    </tr>\n",
       "    <tr>\n",
       "      <th>park_name</th>\n",
       "      <th></th>\n",
       "      <th></th>\n",
       "      <th></th>\n",
       "      <th></th>\n",
       "      <th></th>\n",
       "      <th></th>\n",
       "      <th></th>\n",
       "      <th></th>\n",
       "    </tr>\n",
       "  </thead>\n",
       "  <tbody>\n",
       "    <tr>\n",
       "      <th>Bryce National Park</th>\n",
       "      <td>81.0</td>\n",
       "      <td>100.506173</td>\n",
       "      <td>18.805666</td>\n",
       "      <td>66.0</td>\n",
       "      <td>86.0</td>\n",
       "      <td>101.0</td>\n",
       "      <td>112.0</td>\n",
       "      <td>155.0</td>\n",
       "    </tr>\n",
       "    <tr>\n",
       "      <th>Great Smoky Mountains National Park</th>\n",
       "      <td>81.0</td>\n",
       "      <td>72.111111</td>\n",
       "      <td>20.779798</td>\n",
       "      <td>18.0</td>\n",
       "      <td>59.0</td>\n",
       "      <td>73.0</td>\n",
       "      <td>83.0</td>\n",
       "      <td>117.0</td>\n",
       "    </tr>\n",
       "    <tr>\n",
       "      <th>Yellowstone National Park</th>\n",
       "      <td>81.0</td>\n",
       "      <td>247.666667</td>\n",
       "      <td>20.015619</td>\n",
       "      <td>191.0</td>\n",
       "      <td>234.0</td>\n",
       "      <td>249.0</td>\n",
       "      <td>260.0</td>\n",
       "      <td>307.0</td>\n",
       "    </tr>\n",
       "    <tr>\n",
       "      <th>Yosemite National Park</th>\n",
       "      <td>81.0</td>\n",
       "      <td>145.419753</td>\n",
       "      <td>20.820581</td>\n",
       "      <td>84.0</td>\n",
       "      <td>129.0</td>\n",
       "      <td>150.0</td>\n",
       "      <td>160.0</td>\n",
       "      <td>204.0</td>\n",
       "    </tr>\n",
       "  </tbody>\n",
       "</table>\n",
       "</div>"
      ],
      "text/plain": [
       "                                    observations                         \\\n",
       "                                           count        mean        std   \n",
       "park_name                                                                 \n",
       "Bryce National Park                         81.0  100.506173  18.805666   \n",
       "Great Smoky Mountains National Park         81.0   72.111111  20.779798   \n",
       "Yellowstone National Park                   81.0  247.666667  20.015619   \n",
       "Yosemite National Park                      81.0  145.419753  20.820581   \n",
       "\n",
       "                                                                        \n",
       "                                       min    25%    50%    75%    max  \n",
       "park_name                                                               \n",
       "Bryce National Park                   66.0   86.0  101.0  112.0  155.0  \n",
       "Great Smoky Mountains National Park   18.0   59.0   73.0   83.0  117.0  \n",
       "Yellowstone National Park            191.0  234.0  249.0  260.0  307.0  \n",
       "Yosemite National Park                84.0  129.0  150.0  160.0  204.0  "
      ]
     },
     "execution_count": 53,
     "metadata": {},
     "output_type": "execute_result"
    }
   ],
   "source": [
    "Reptile_ca.sort_values(by=['park_name']).groupby(\"park_name\").describe()"
   ]
  },
  {
   "cell_type": "code",
   "execution_count": 54,
   "metadata": {},
   "outputs": [
    {
     "data": {
      "image/png": "[encoded data removed]",
      "text/plain": [
       "<Figure size 720x576 with 1 Axes>"
      ]
     },
     "metadata": {
      "needs_background": "light"
     },
     "output_type": "display_data"
    },
    {
     "data": {
      "text/plain": [
       "<Figure size 432x288 with 0 Axes>"
      ]
     },
     "metadata": {},
     "output_type": "display_data"
    }
   ],
   "source": [
    "#The facet grid of scatter graph mapping observations for Reptile category species as a function of park sites\n",
    "plt.figure(figsize=(10,8))\n",
    "sns.boxplot(x=\"park_name\", y=\"observations\", data=Reptile_ca.sort_values(by=['park_name']))\n",
    "plt.title('Relationship between observations for Reptile category species and park sites')\n",
    "plt.xticks(rotation=90)\n",
    "plt.savefig('Fig_obsReptilesparksites.png')\n",
    "plt.show()\n",
    "plt.clf()"
   ]
  },
  {
   "cell_type": "code",
   "execution_count": 55,
   "metadata": {},
   "outputs": [
    {
     "name": "stdout",
     "output_type": "stream",
     "text": [
      "      scientific_name                            park_name  observations  \\\n",
      "0  Vicia benghalensis  Great Smoky Mountains National Park            68   \n",
      "1  Vicia benghalensis               Yosemite National Park           148   \n",
      "2  Vicia benghalensis            Yellowstone National Park           247   \n",
      "3  Vicia benghalensis                  Bryce National Park           104   \n",
      "8   Prunus subcordata               Yosemite National Park           138   \n",
      "\n",
      "         category                        common_names conservation_status  \\\n",
      "0  Vascular Plant  Purple Vetch, Reddish Tufted Vetch     No intervention   \n",
      "1  Vascular Plant  Purple Vetch, Reddish Tufted Vetch     No intervention   \n",
      "2  Vascular Plant  Purple Vetch, Reddish Tufted Vetch     No intervention   \n",
      "3  Vascular Plant  Purple Vetch, Reddish Tufted Vetch     No intervention   \n",
      "8  Vascular Plant                        Klamath Plum     No intervention   \n",
      "\n",
      "   is_protected  \n",
      "0         False  \n",
      "1         False  \n",
      "2         False  \n",
      "3         False  \n",
      "8         False  \n"
     ]
    },
    {
     "data": {
      "text/html": [
       "<div>\n",
       "<style scoped>\n",
       "    .dataframe tbody tr th:only-of-type {\n",
       "        vertical-align: middle;\n",
       "    }\n",
       "\n",
       "    .dataframe tbody tr th {\n",
       "        vertical-align: top;\n",
       "    }\n",
       "\n",
       "    .dataframe thead th {\n",
       "        text-align: right;\n",
       "    }\n",
       "</style>\n",
       "<table border=\"1\" class=\"dataframe\">\n",
       "  <thead>\n",
       "    <tr style=\"text-align: right;\">\n",
       "      <th></th>\n",
       "      <th>observations</th>\n",
       "    </tr>\n",
       "  </thead>\n",
       "  <tbody>\n",
       "    <tr>\n",
       "      <th>count</th>\n",
       "      <td>19560.000000</td>\n",
       "    </tr>\n",
       "    <tr>\n",
       "      <th>mean</th>\n",
       "      <td>142.909611</td>\n",
       "    </tr>\n",
       "    <tr>\n",
       "      <th>std</th>\n",
       "      <td>69.900140</td>\n",
       "    </tr>\n",
       "    <tr>\n",
       "      <th>min</th>\n",
       "      <td>9.000000</td>\n",
       "    </tr>\n",
       "    <tr>\n",
       "      <th>25%</th>\n",
       "      <td>87.000000</td>\n",
       "    </tr>\n",
       "    <tr>\n",
       "      <th>50%</th>\n",
       "      <td>124.000000</td>\n",
       "    </tr>\n",
       "    <tr>\n",
       "      <th>75%</th>\n",
       "      <td>199.000000</td>\n",
       "    </tr>\n",
       "    <tr>\n",
       "      <th>max</th>\n",
       "      <td>321.000000</td>\n",
       "    </tr>\n",
       "  </tbody>\n",
       "</table>\n",
       "</div>"
      ],
      "text/plain": [
       "       observations\n",
       "count  19560.000000\n",
       "mean     142.909611\n",
       "std       69.900140\n",
       "min        9.000000\n",
       "25%       87.000000\n",
       "50%      124.000000\n",
       "75%      199.000000\n",
       "max      321.000000"
      ]
     },
     "execution_count": 55,
     "metadata": {},
     "output_type": "execute_result"
    }
   ],
   "source": [
    "#Vascular plant\n",
    "VascularPlant_ca = merged_df2[merged_df2.category == 'Vascular Plant']\n",
    "print(VascularPlant_ca.head())\n",
    "VascularPlant_ca.observations.count()\n",
    "VascularPlant_ca.describe()"
   ]
  },
  {
   "cell_type": "code",
   "execution_count": 56,
   "metadata": {},
   "outputs": [
    {
     "data": {
      "text/html": [
       "<div>\n",
       "<style scoped>\n",
       "    .dataframe tbody tr th:only-of-type {\n",
       "        vertical-align: middle;\n",
       "    }\n",
       "\n",
       "    .dataframe tbody tr th {\n",
       "        vertical-align: top;\n",
       "    }\n",
       "\n",
       "    .dataframe thead tr th {\n",
       "        text-align: left;\n",
       "    }\n",
       "\n",
       "    .dataframe thead tr:last-of-type th {\n",
       "        text-align: right;\n",
       "    }\n",
       "</style>\n",
       "<table border=\"1\" class=\"dataframe\">\n",
       "  <thead>\n",
       "    <tr>\n",
       "      <th></th>\n",
       "      <th colspan=\"8\" halign=\"left\">observations</th>\n",
       "    </tr>\n",
       "    <tr>\n",
       "      <th></th>\n",
       "      <th>count</th>\n",
       "      <th>mean</th>\n",
       "      <th>std</th>\n",
       "      <th>min</th>\n",
       "      <th>25%</th>\n",
       "      <th>50%</th>\n",
       "      <th>75%</th>\n",
       "      <th>max</th>\n",
       "    </tr>\n",
       "    <tr>\n",
       "      <th>park_name</th>\n",
       "      <th></th>\n",
       "      <th></th>\n",
       "      <th></th>\n",
       "      <th></th>\n",
       "      <th></th>\n",
       "      <th></th>\n",
       "      <th></th>\n",
       "      <th></th>\n",
       "    </tr>\n",
       "  </thead>\n",
       "  <tbody>\n",
       "    <tr>\n",
       "      <th>Bryce National Park</th>\n",
       "      <td>4890.0</td>\n",
       "      <td>99.053783</td>\n",
       "      <td>20.479908</td>\n",
       "      <td>9.0</td>\n",
       "      <td>85.0</td>\n",
       "      <td>99.0</td>\n",
       "      <td>113.0</td>\n",
       "      <td>176.0</td>\n",
       "    </tr>\n",
       "    <tr>\n",
       "      <th>Great Smoky Mountains National Park</th>\n",
       "      <td>4890.0</td>\n",
       "      <td>74.617996</td>\n",
       "      <td>20.027923</td>\n",
       "      <td>10.0</td>\n",
       "      <td>61.0</td>\n",
       "      <td>75.0</td>\n",
       "      <td>88.0</td>\n",
       "      <td>147.0</td>\n",
       "    </tr>\n",
       "    <tr>\n",
       "      <th>Yellowstone National Park</th>\n",
       "      <td>4890.0</td>\n",
       "      <td>249.112883</td>\n",
       "      <td>20.238695</td>\n",
       "      <td>63.0</td>\n",
       "      <td>236.0</td>\n",
       "      <td>249.0</td>\n",
       "      <td>263.0</td>\n",
       "      <td>321.0</td>\n",
       "    </tr>\n",
       "    <tr>\n",
       "      <th>Yosemite National Park</th>\n",
       "      <td>4890.0</td>\n",
       "      <td>148.853783</td>\n",
       "      <td>20.291849</td>\n",
       "      <td>47.0</td>\n",
       "      <td>135.0</td>\n",
       "      <td>149.0</td>\n",
       "      <td>163.0</td>\n",
       "      <td>223.0</td>\n",
       "    </tr>\n",
       "  </tbody>\n",
       "</table>\n",
       "</div>"
      ],
      "text/plain": [
       "                                    observations                               \\\n",
       "                                           count        mean        std   min   \n",
       "park_name                                                                       \n",
       "Bryce National Park                       4890.0   99.053783  20.479908   9.0   \n",
       "Great Smoky Mountains National Park       4890.0   74.617996  20.027923  10.0   \n",
       "Yellowstone National Park                 4890.0  249.112883  20.238695  63.0   \n",
       "Yosemite National Park                    4890.0  148.853783  20.291849  47.0   \n",
       "\n",
       "                                                                 \n",
       "                                       25%    50%    75%    max  \n",
       "park_name                                                        \n",
       "Bryce National Park                   85.0   99.0  113.0  176.0  \n",
       "Great Smoky Mountains National Park   61.0   75.0   88.0  147.0  \n",
       "Yellowstone National Park            236.0  249.0  263.0  321.0  \n",
       "Yosemite National Park               135.0  149.0  163.0  223.0  "
      ]
     },
     "execution_count": 56,
     "metadata": {},
     "output_type": "execute_result"
    }
   ],
   "source": [
    "VascularPlant_ca.sort_values(by=['park_name']).groupby(\"park_name\").describe()"
   ]
  },
  {
   "cell_type": "code",
   "execution_count": 57,
   "metadata": {},
   "outputs": [
    {
     "data": {
      "image/png": "[encoded data removed]",
      "text/plain": [
       "<Figure size 720x576 with 1 Axes>"
      ]
     },
     "metadata": {
      "needs_background": "light"
     },
     "output_type": "display_data"
    },
    {
     "data": {
      "text/plain": [
       "<Figure size 432x288 with 0 Axes>"
      ]
     },
     "metadata": {},
     "output_type": "display_data"
    }
   ],
   "source": [
    "#The facet grid of scatter graph mapping observations for VascularPlant category species as a function of park sites\n",
    "plt.figure(figsize=(10,8))\n",
    "sns.boxplot(x=\"park_name\", y=\"observations\", data=VascularPlant_ca.sort_values(by=['park_name']))\n",
    "plt.title('Relationship between observations for Vascular Plant category species and park sites')\n",
    "plt.xticks(rotation=90)\n",
    "plt.savefig('Fig_obsVPparksites.png')\n",
    "plt.show()\n",
    "plt.clf()"
   ]
  },
  {
   "cell_type": "code",
   "execution_count": null,
   "metadata": {},
   "outputs": [],
   "source": []
  },
  {
   "cell_type": "markdown",
   "metadata": {},
   "source": [
    "# References"
   ]
  },
  {
   "cell_type": "markdown",
   "metadata": {},
   "source": [
    "https://www.nps.gov/articles/npspecies.htm"
   ]
  },
  {
   "cell_type": "markdown",
   "metadata": {},
   "source": [
    "https://www.kaggle.com/datasets/nationalparkservice/park-biodiversity"
   ]
  }
 ],
 "metadata": {
  "kernelspec": {
   "display_name": "Python 3 (ipykernel)",
   "language": "python",
   "name": "python3"
  },
  "language_info": {
   "codemirror_mode": {
    "name": "ipython",
    "version": 3
   },
   "file_extension": ".py",
   "mimetype": "text/x-python",
   "name": "python",
   "nbconvert_exporter": "python",
   "pygments_lexer": "ipython3",
   "version": "3.9.12"
  }
 },
 "nbformat": 4,
 "nbformat_minor": 4
}
